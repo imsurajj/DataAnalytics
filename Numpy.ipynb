{
 "cells": [
  {
   "cell_type": "code",
   "execution_count": 4,
   "id": "4887b582-eec9-495a-a26a-0ae09a07f61c",
   "metadata": {},
   "outputs": [
    {
     "name": "stdout",
     "output_type": "stream",
     "text": [
      "[1 2 3 4 5]\n",
      "[[1 2 3]\n",
      " [4 5 6]]\n",
      "(5,)\n",
      "1\n",
      "5\n",
      "int64\n"
     ]
    }
   ],
   "source": [
    "# Numpy Basic\n",
    "#----------------------------------\n",
    "\n",
    "import numpy as np\n",
    "\n",
    "arr = np.array([1, 2, 3, 4, 5])\n",
    "arr2 = np.array([[1, 2, 3],[ 4, 5, 6]])\n",
    "\n",
    "print(arr)\n",
    "print(arr2)\n",
    "\n",
    "print(arr.shape)\n",
    "print(arr.ndim)\n",
    "print(arr.size)\n",
    "print(arr.dtype)"
   ]
  }
 ],
 "metadata": {
  "kernelspec": {
   "display_name": "Python [conda env:base] *",
   "language": "python",
   "name": "conda-base-py"
  },
  "language_info": {
   "codemirror_mode": {
    "name": "ipython",
    "version": 3
   },
   "file_extension": ".py",
   "mimetype": "text/x-python",
   "name": "python",
   "nbconvert_exporter": "python",
   "pygments_lexer": "ipython3",
   "version": "3.13.5"
  }
 },
 "nbformat": 4,
 "nbformat_minor": 5
}
