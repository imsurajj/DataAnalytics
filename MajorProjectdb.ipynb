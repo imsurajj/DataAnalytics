{
 "cells": [
  {
   "cell_type": "code",
   "execution_count": null,
   "id": "da2765f8-1905-4b8a-9f62-aa3043f33f2b",
   "metadata": {},
   "outputs": [],
   "source": [
    "import sqlite3\n",
    "\n",
    "conn = sqlite3.connect(\"billing.db\")\n",
    "cur = conn.cursor()\n",
    "\n",
    "# Product Table\n",
    "cur.execute('''\n",
    "CREATE TABLE IF NOT EXISTS products (\n",
    "    id INTEGER PRIMARY KEY AUTOINCREMENT,\n",
    "    name TEXT,\n",
    "    price REAL\n",
    ")\n",
    "''')\n",
    "\n",
    "# Cart Table\n",
    "cur.execute('''\n",
    "CREATE TABLE IF NOT EXISTS cart (\n",
    "    id INTEGER PRIMARY KEY AUTOINCREMENT,\n",
    "    product_id INTEGER,\n",
    "    quantity INTEGER\n",
    ")\n",
    "''')\n",
    "\n",
    "conn.commit()\n"
   ]
  },
  {
   "cell_type": "code",
   "execution_count": null,
   "id": "e3ff5bbd-5560-4025-86f7-b4f5e86ba82e",
   "metadata": {},
   "outputs": [],
   "source": [
    "def add_product(name, price):\n",
    "    cur.execute(\"INSERT INTO products (name, price) VALUES (?, ?)\", (name, price))\n",
    "    conn.commit()\n",
    "    print(\"Product added successfully.\")\n"
   ]
  },
  {
   "cell_type": "code",
   "execution_count": null,
   "id": "10232d50-52b6-452b-8063-b8905b7d3139",
   "metadata": {},
   "outputs": [],
   "source": [
    "def show_products():\n",
    "    cur.execute(\"SELECT * FROM products\")\n",
    "    products = cur.fetchall()\n",
    "    print(\"\\n Available Products:\")\n",
    "    for p in products:\n",
    "        print(f\"ID: {p[0]} | Name: {p[1]} | Price: ₹{p[2]}\")\n"
   ]
  },
  {
   "cell_type": "code",
   "execution_count": null,
   "id": "b6e9a3b9-f6a2-4a96-922a-60b663bb9f0d",
   "metadata": {},
   "outputs": [],
   "source": [
    "def purchase_product(prod_id, qty):\n",
    "    cur.execute(\"INSERT INTO cart (product_id, quantity) VALUES (?, ?)\", (prod_id, qty))\n",
    "    conn.commit()\n",
    "    print(\" Added to cart!\")\n"
   ]
  },
  {
   "cell_type": "code",
   "execution_count": null,
   "id": "fbf3a9e4-14ca-4d58-b5ce-5b668665b549",
   "metadata": {},
   "outputs": [],
   "source": [
    "def purchase_product(prod_id, qty):\n",
    "    cur.execute(\"INSERT INTO cart (product_id, quantity) VALUES (?, ?)\", (prod_id, qty))\n",
    "    conn.commit()\n",
    "    print(\"Added to cart!\")\n"
   ]
  },
  {
   "cell_type": "code",
   "execution_count": null,
   "id": "423ad1a3-89c6-4c28-a132-4ba1f88ba70f",
   "metadata": {},
   "outputs": [],
   "source": [
    "\n",
    "def show_bill():\n",
    "    cur.execute('''\n",
    "    SELECT products.name, products.price, cart.quantity, \n",
    "           (products.price * cart.quantity) as total \n",
    "    FROM cart \n",
    "    JOIN products ON products.id = cart.product_id\n",
    "    ''')\n",
    "    items = cur.fetchall()\n",
    "    grand_total = 0\n",
    "\n",
    "    print(\"\\n Final Bill:\")\n",
    "    for item in items:\n",
    "        name, price, qty, total = item\n",
    "        print(f\"{name} | ₹{price} x {qty} = ₹{total}\")\n",
    "        grand_total += total\n",
    "\n",
    "    print(f\"Grand Total: ₹{grand_total}\")\n"
   ]
  },
  {
   "cell_type": "code",
   "execution_count": null,
   "id": "0fe6fc92-dca8-4e92-a837-b576b26f68c7",
   "metadata": {},
   "outputs": [],
   "source": []
  },
  {
   "cell_type": "code",
   "execution_count": null,
   "id": "72526072-097f-491d-be75-f6ae2d6e9880",
   "metadata": {},
   "outputs": [],
   "source": []
  },
  {
   "cell_type": "code",
   "execution_count": null,
   "id": "d14fb7ee-2f9f-4b72-aba0-5b8f80cdbc49",
   "metadata": {},
   "outputs": [],
   "source": []
  },
  {
   "cell_type": "code",
   "execution_count": null,
   "id": "9ad68846-433d-4cd4-9e19-dc1a33690795",
   "metadata": {},
   "outputs": [],
   "source": []
  },
  {
   "cell_type": "code",
   "execution_count": null,
   "id": "464af5fb-e1da-43a2-a552-8462462a58a4",
   "metadata": {},
   "outputs": [],
   "source": []
  },
  {
   "cell_type": "code",
   "execution_count": null,
   "id": "0900cf45-6781-44aa-bc97-1ba05cffe4a6",
   "metadata": {},
   "outputs": [],
   "source": []
  },
  {
   "cell_type": "code",
   "execution_count": null,
   "id": "b88e476a-bbea-4011-9f02-269278d35067",
   "metadata": {},
   "outputs": [],
   "source": [
    "\n"
   ]
  },
  {
   "cell_type": "code",
   "execution_count": null,
   "id": "7e558145-1620-4fe6-bc90-e8279d0fb18f",
   "metadata": {},
   "outputs": [],
   "source": [
    "\n",
    "\n",
    "\n",
    "\n",
    "\n"
   ]
  },
  {
   "cell_type": "code",
   "execution_count": null,
   "id": "e713845b-606c-4ec2-8e6a-fa853aaceec3",
   "metadata": {},
   "outputs": [],
   "source": []
  },
  {
   "cell_type": "code",
   "execution_count": null,
   "id": "caec2113-d100-4bd7-acd3-9ef3f7a4b5f2",
   "metadata": {},
   "outputs": [],
   "source": []
  },
  {
   "cell_type": "code",
   "execution_count": null,
   "id": "3e31b6ec-f6f6-41d3-94c4-8ba1c1dd06e0",
   "metadata": {},
   "outputs": [],
   "source": []
  },
  {
   "cell_type": "code",
   "execution_count": null,
   "id": "9f42dd33-0486-4e78-ad4f-4712b50d3c4e",
   "metadata": {},
   "outputs": [],
   "source": []
  },
  {
   "cell_type": "code",
   "execution_count": null,
   "id": "78adeaaa-bf4c-4baa-9f3d-9b6a8bbf250c",
   "metadata": {},
   "outputs": [],
   "source": []
  }
 ],
 "metadata": {
  "kernelspec": {
   "display_name": "Python [conda env:base] *",
   "language": "python",
   "name": "conda-base-py"
  },
  "language_info": {
   "codemirror_mode": {
    "name": "ipython",
    "version": 3
   },
   "file_extension": ".py",
   "mimetype": "text/x-python",
   "name": "python",
   "nbconvert_exporter": "python",
   "pygments_lexer": "ipython3",
   "version": "3.12.7"
  }
 },
 "nbformat": 4,
 "nbformat_minor": 5
}
