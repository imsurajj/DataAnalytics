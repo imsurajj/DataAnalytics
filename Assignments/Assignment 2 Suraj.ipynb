{
 "cells": [
  {
   "cell_type": "code",
   "execution_count": null,
   "id": "224ea879-f1ed-4ff1-a06a-22c4f1208b96",
   "metadata": {},
   "outputs": [],
   "source": [
    "# Create an empty list and take 5 numbers as input from the user. Append each number to the list and display the final list.\n",
    "\n",
    "# Create two lists: list1 = [1, 2, 3] and list2 = [4, 5, 6]. Extend list1 using list2 and print the updated list.\n",
    "\n",
    "# Insert the value 25 at index 2 in the list: l = [10, 20, 30, 40].\n",
    "\n",
    "# Remove the first occurrence of the value 20 from the list: l = [10, 20, 30, 20, 40].\n",
    "\n",
    "# Pop the last element from the list [1, 2, 3, 4, 5] and display both the popped item and the updated list.\n",
    "\n",
    "# Find and print the index of the element 15 in the list [5, 10, 15, 20, 25].\n",
    "\n",
    "# Count how many times the number 2 appears in the list [1, 2, 2, 3, 2, 4, 2].\n",
    "\n",
    "# Sort the list [10, 5, 7, 3] in both ascending and descending order.\n",
    "\n",
    "# Reverse the list [1, 2, 3, 4, 5] using the reverse() method."
   ]
  },
  {
   "cell_type": "code",
   "execution_count": null,
   "id": "890efbe1-e65c-497b-9062-b42f3524c32e",
   "metadata": {},
   "outputs": [],
   "source": [
    "# Create an empty list and take 5 numbers as input from the user. Append each number to the list and display the final list.\n",
    "l=[]\n",
    "a=int(input(\"Enter a : \"))\n",
    "b=int(input(\"Enter b : \"))\n",
    "c=int(input(\"Enter c : \"))\n",
    "d=int(input(\"Enter d : \"))\n",
    "e=int(input(\"Enter e : \"))\n",
    "\n",
    "l.append(a)\n",
    "l.append(b)\n",
    "l.append(c)\n",
    "l.append(d)\n",
    "l.append(e)\n",
    "print(l)\n",
    "   "
   ]
  },
  {
   "cell_type": "code",
   "execution_count": null,
   "id": "c71465d6-cea8-4acb-823d-c929c915cf29",
   "metadata": {},
   "outputs": [],
   "source": [
    "# Create two lists: list1 = [1, 2, 3] and list2 = [4, 5, 6]. Extend list1 using list2 and print the updated list.\n",
    "list1 = [1, 2, 3]\n",
    "list2 = [4, 5, 6]\n",
    "list1.extend(list2)\n",
    "print(list1)"
   ]
  },
  {
   "cell_type": "code",
   "execution_count": null,
   "id": "cee58d44-a37b-40f3-90e4-6e5f0a15022d",
   "metadata": {},
   "outputs": [],
   "source": [
    "# Insert the value 25 at index 2 in the list: l = [10, 20, 30, 40].\n",
    "l = [10, 20, 30, 40]\n",
    "l.insert(2,25)\n",
    "print(l)"
   ]
  },
  {
   "cell_type": "code",
   "execution_count": null,
   "id": "3815416b-2e3a-4416-9dc5-7fa00f2fa8f1",
   "metadata": {},
   "outputs": [],
   "source": [
    "# Remove the first occurrence of the value 20 from the list: l = [10, 20, 30, 20, 40].\n",
    "l = [10, 20, 30, 20, 40]\n",
    "l.remove(20)\n",
    "print(l)"
   ]
  },
  {
   "cell_type": "code",
   "execution_count": null,
   "id": "f36806fc-a144-457c-a1e4-dd514b1b9e90",
   "metadata": {},
   "outputs": [],
   "source": [
    "# Pop the last element from the list [1, 2, 3, 4, 5] and display both the popped item and the updated list.\n",
    "l = [10, 20, 30, 20, 40]\n",
    "l.pop(-1)\n",
    "print(l)\n",
    "print(l.pop())"
   ]
  }
 ],
 "metadata": {
  "kernelspec": {
   "display_name": "Python [conda env:base] *",
   "language": "python",
   "name": "conda-base-py"
  },
  "language_info": {
   "codemirror_mode": {
    "name": "ipython",
    "version": 3
   },
   "file_extension": ".py",
   "mimetype": "text/x-python",
   "name": "python",
   "nbconvert_exporter": "python",
   "pygments_lexer": "ipython3",
   "version": "3.13.5"
  }
 },
 "nbformat": 4,
 "nbformat_minor": 5
}
