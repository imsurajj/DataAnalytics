{
 "cells": [
  {
   "cell_type": "code",
   "execution_count": 3,
   "id": "37fdd167-a58a-45d1-90fc-d26e16c51820",
   "metadata": {},
   "outputs": [],
   "source": [
    "import sqlite3\n"
   ]
  },
  {
   "cell_type": "code",
   "execution_count": 14,
   "id": "cd94592b-bbbc-4141-9d34-37f250d0b7fc",
   "metadata": {},
   "outputs": [],
   "source": [
    "import sqlite3\n",
    "\n",
    "conn = sqlite3.connect('students.db')\n",
    "\n",
    "# Creating a cursor object\n",
    "cursor = conn.cursor()\n"
   ]
  },
  {
   "cell_type": "code",
   "execution_count": 16,
   "id": "8471e55a-e2aa-4fa2-8593-22eb2d25d3ce",
   "metadata": {},
   "outputs": [
    {
     "name": "stdout",
     "output_type": "stream",
     "text": [
      "Table created successfully.\n"
     ]
    }
   ],
   "source": [
    "cursor.execute('''\n",
    "CREATE TABLE IF NOT EXISTS students (\n",
    "    id INTEGER PRIMARY KEY AUTOINCREMENT,\n",
    "    name TEXT NOT NULL,\n",
    "    age INTEGER,\n",
    "    grade TEXT\n",
    ")\n",
    "''')\n",
    "conn.commit()\n",
    "print(\"Table created successfully.\")\n"
   ]
  },
  {
   "cell_type": "code",
   "execution_count": null,
   "id": "2afefa40-8126-4816-b30a-d27f8f33c08e",
   "metadata": {},
   "outputs": [],
   "source": [
    "def insert_student(name, age, grade):\n",
    "    cursor.execute(\"INSERT INTO students (name, age, grade) VALUES (?, ?, ?)\", (name, age, grade))\n",
    "    conn.commit()\n",
    "    print(\"Student inserted successfully.\")\n",
    "\n",
    "\n",
    "insert_student('Riya', 20, 'A')\n",
    "insert_student('Divyank', 22, 'B')\n"
   ]
  },
  {
   "cell_type": "code",
   "execution_count": null,
   "id": "bb81ac65-26f9-4642-a874-e53b16ffab55",
   "metadata": {},
   "outputs": [],
   "source": [
    "def fetch_students():\n",
    "    cursor.execute(\"SELECT * FROM students\")\n",
    "    rows = cursor.fetchall()\n",
    "    for row in rows:\n",
    "        print(row)\n",
    "\n",
    "\n",
    "fetch_students()\n"
   ]
  },
  {
   "cell_type": "code",
   "execution_count": null,
   "id": "ee7a6f9a-9062-4de7-8268-6eaaf7717130",
   "metadata": {},
   "outputs": [],
   "source": [
    "def update_student(student_id, new_name, new_age, new_grade):\n",
    "    cursor.execute(\"UPDATE students SET name=?, age=?, grade=? WHERE id=?\", (new_name, new_age, new_grade, student_id))\n",
    "    conn.commit()\n",
    "    print(\"Student updated successfully.\")\n",
    "update_student(1, 'Riya Sharma', 21, 'A+')\n"
   ]
  },
  {
   "cell_type": "code",
   "execution_count": null,
   "id": "5acf2a34-6bf6-4c3a-88ed-02d90d0947aa",
   "metadata": {},
   "outputs": [],
   "source": [
    "def delete_student(student_id):\n",
    "    cursor.execute(\"DELETE FROM students WHERE id=?\", (student_id,))\n",
    "    conn.commit()\n",
    "    print(\"Student deleted successfully.\")\n",
    "\n",
    "\n",
    "delete_student(2)\n"
   ]
  },
  {
   "cell_type": "code",
   "execution_count": null,
   "id": "6912f678-6c3c-4ef1-9b41-f7aab42e3c52",
   "metadata": {},
   "outputs": [],
   "source": [
    "conn.close()\n",
    "print(\"Database connection closed.\")\n"
   ]
  },
  {
   "cell_type": "code",
   "execution_count": null,
   "id": "21b12641-e0b9-4af4-a199-0890dfb00659",
   "metadata": {},
   "outputs": [],
   "source": [
    "#major project"
   ]
  },
  {
   "cell_type": "code",
   "execution_count": null,
   "id": "f0e1d293-cbaa-4811-b1a7-c7164fbb04a5",
   "metadata": {},
   "outputs": [],
   "source": [
    "import sqlite3\n",
    "\n",
    "# Database connection\n",
    "conn = sqlite3.connect(\"atm.db\")\n",
    "cur = conn.cursor()\n",
    "\n",
    "# Table create (run once)\n",
    "cur.execute('''\n",
    "CREATE TABLE IF NOT EXISTS accounts (\n",
    "    acc_no INTEGER PRIMARY KEY AUTOINCREMENT,\n",
    "    name TEXT,\n",
    "    pin TEXT,\n",
    "    balance REAL\n",
    ")\n",
    "''')\n",
    "conn.commit()\n"
   ]
  },
  {
   "cell_type": "code",
   "execution_count": null,
   "id": "82af70ed-8f64-482b-864b-784c5d59c111",
   "metadata": {},
   "outputs": [],
   "source": [
    "def create_account(name, pin, balance):\n",
    "    cur.execute(\"INSERT INTO accounts (name, pin, balance) VALUES (?, ?, ?)\", (name, pin, balance))\n",
    "    conn.commit()\n",
    "    print(\" Account created successfully!\")\n",
    "\n",
    "# Example\n",
    "# create_account(\"Divyank\", \"1234\", 5000)\n"
   ]
  },
  {
   "cell_type": "code",
   "execution_count": null,
   "id": "71ec2634-7782-447d-a9eb-1b3d8159582c",
   "metadata": {},
   "outputs": [],
   "source": [
    "def login(acc_no, pin):\n",
    "    cur.execute(\"SELECT * FROM accounts WHERE acc_no=? AND pin=?\", (acc_no, pin))\n",
    "    user = cur.fetchone()\n",
    "    if user:\n",
    "        print(f\" Welcome {user[1]}!\")\n",
    "        return user\n",
    "    else:\n",
    "        print(\" Invalid account number or PIN.\")\n",
    "        return None\n"
   ]
  },
  {
   "cell_type": "code",
   "execution_count": 1,
   "id": "1e1c3cb6-c6ba-4c47-940d-47176b710cf7",
   "metadata": {},
   "outputs": [],
   "source": [
    "def check_balance(acc_no):\n",
    "    cur.execute(\"SELECT balance FROM accounts WHERE acc_no=?\", (acc_no,))\n",
    "    balance = cur.fetchone()[0]\n",
    "    print(f\"Current Balance: ₹{balance}\")\n"
   ]
  },
  {
   "cell_type": "code",
   "execution_count": null,
   "id": "473e400c-56a6-47ab-bea5-68eb9057c9c8",
   "metadata": {},
   "outputs": [],
   "source": [
    "def deposit(acc_no, amount):\n",
    "    cur.execute(\"UPDATE accounts SET balance = balance + ? WHERE acc_no=?\", (amount, acc_no))\n",
    "    conn.commit()\n",
    "    print(f\" ₹{amount} deposited successfully.\")\n"
   ]
  },
  {
   "cell_type": "code",
   "execution_count": null,
   "id": "5b1fd324-2394-41be-b51b-1cb7f17729c1",
   "metadata": {},
   "outputs": [],
   "source": [
    "def withdraw(acc_no, amount):\n",
    "    cur.execute(\"SELECT balance FROM accounts WHERE acc_no=?\", (acc_no,))\n",
    "    current_balance = cur.fetchone()[0]\n",
    "\n",
    "    if amount > current_balance:\n",
    "        print(\" Insufficient balance!\")\n",
    "    else:\n",
    "        cur.execute(\"UPDATE accounts SET balance = balance - ? WHERE acc_no=?\", (amount, acc_no))\n",
    "        conn.commit()\n",
    "        print(f\" ₹{amount} withdrawn successfully.\")\n"
   ]
  },
  {
   "cell_type": "code",
   "execution_count": null,
   "id": "c8f1029b-39f9-4b95-af29-2e704125c042",
   "metadata": {},
   "outputs": [],
   "source": [
    "def atm_menu():\n",
    "    print(\"===== Welcome to Python ATM =====\")\n",
    "    acc_no = int(input(\"Enter Account Number: \"))\n",
    "    pin = input(\"Enter PIN: \")\n",
    "\n",
    "    user = login(acc_no, pin)\n",
    "    if not user:\n",
    "        return\n",
    "\n",
    "    while True:\n",
    "        print(\"\\n--- Menu ---\")\n",
    "        print(\"1. Check Balance\")\n",
    "        print(\"2. Deposit\")\n",
    "        print(\"3. Withdraw\")\n",
    "        print(\"4. Exit\")\n",
    "        choice = input(\"Enter your choice: \")\n",
    "\n",
    "        if choice == '1':\n",
    "            check_balance(acc_no)\n",
    "        elif choice == '2':\n",
    "            amt = float(input(\"Enter amount to deposit: ₹\"))\n",
    "            deposit(acc_no, amt)\n",
    "        elif choice == '3':\n",
    "            amt = float(input(\"Enter amount to withdraw: ₹\"))\n",
    "            withdraw(acc_no, amt)\n",
    "        elif choice == '4':\n",
    "            print(\" Thank you for using the ATM. Bye!\")\n",
    "            break\n",
    "        else:\n",
    "            print(\"Invalid choice.\")\n"
   ]
  },
  {
   "cell_type": "code",
   "execution_count": null,
   "id": "abeea95a-c9a2-4b5d-8e55-058ebbaea609",
   "metadata": {},
   "outputs": [],
   "source": [
    "\n",
    "\n",
    "atm_menu()\n",
    "conn.close()\n"
   ]
  },
  {
   "cell_type": "code",
   "execution_count": null,
   "id": "d28d528c-9958-4c59-bf06-d1cf5fc225f3",
   "metadata": {},
   "outputs": [],
   "source": []
  },
  {
   "cell_type": "code",
   "execution_count": null,
   "id": "d092397b-a23f-4ecd-b116-aa5254175015",
   "metadata": {},
   "outputs": [],
   "source": []
  },
  {
   "cell_type": "code",
   "execution_count": null,
   "id": "1240bbc3-80ae-4404-97e6-abd399b8855e",
   "metadata": {},
   "outputs": [],
   "source": []
  },
  {
   "cell_type": "code",
   "execution_count": null,
   "id": "0155aa58-40d0-48df-a449-31da079ce46e",
   "metadata": {},
   "outputs": [],
   "source": []
  },
  {
   "cell_type": "code",
   "execution_count": null,
   "id": "2cb872d6-e075-4163-9d65-2a90d9934385",
   "metadata": {},
   "outputs": [],
   "source": []
  },
  {
   "cell_type": "code",
   "execution_count": null,
   "id": "254cec03-058d-423a-8210-b0bc9793c6e0",
   "metadata": {},
   "outputs": [],
   "source": []
  },
  {
   "cell_type": "code",
   "execution_count": null,
   "id": "d2b2b410-8d10-4e48-9a3b-3a78144a0ec4",
   "metadata": {},
   "outputs": [],
   "source": []
  },
  {
   "cell_type": "code",
   "execution_count": null,
   "id": "dc3a7c3b-c723-4279-90e6-073e9f250eec",
   "metadata": {},
   "outputs": [],
   "source": []
  }
 ],
 "metadata": {
  "kernelspec": {
   "display_name": "Python [conda env:base] *",
   "language": "python",
   "name": "conda-base-py"
  },
  "language_info": {
   "codemirror_mode": {
    "name": "ipython",
    "version": 3
   },
   "file_extension": ".py",
   "mimetype": "text/x-python",
   "name": "python",
   "nbconvert_exporter": "python",
   "pygments_lexer": "ipython3",
   "version": "3.12.7"
  }
 },
 "nbformat": 4,
 "nbformat_minor": 5
}
