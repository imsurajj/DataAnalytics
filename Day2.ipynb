{
 "cells": [
  {
   "cell_type": "code",
   "execution_count": 19,
   "id": "118a44ec-8f0d-44a1-a6fd-66a0b19f5060",
   "metadata": {},
   "outputs": [
    {
     "name": "stdout",
     "output_type": "stream",
     "text": [
      "Enter product name :  a\n"
     ]
    },
    {
     "name": "stdout",
     "output_type": "stream",
     "text": [
      "product name : a\n",
      "product cost : 10.0\n"
     ]
    }
   ],
   "source": [
    "# Bill Management System\n",
    "productprice = {\n",
    "    \"a\": 10.0,\n",
    "    \"b\": 20.0,\n",
    "    \"c\": 30.0\n",
    "}\n",
    "\n",
    "product = str(input(\"Enter product name : \"))\n",
    "\n",
    "if product in productprice:\n",
    "    print(\"product name :\", product)\n",
    "    print(\"product cost :\", productprice[product])\n",
    "else:\n",
    "    print(\"product not found\")"
   ]
  },
  {
   "cell_type": "code",
   "execution_count": 12,
   "id": "d28ab34e-84f8-461c-8b10-220c3a81993c",
   "metadata": {},
   "outputs": [
    {
     "name": "stdout",
     "output_type": "stream",
     "text": [
      "Enter int :  3\n",
      "Enter float :  4.5\n"
     ]
    },
    {
     "name": "stdout",
     "output_type": "stream",
     "text": [
      "7.5\n"
     ]
    }
   ],
   "source": [
    "a=int(input(\"Enter int : \"))\n",
    "b=float(input(\"Enter float : \"))\n",
    "c=a+b\n",
    "print(c)\n"
   ]
  },
  {
   "cell_type": "code",
   "execution_count": 24,
   "id": "d959f3bf-fe73-485b-85bd-5e6bbb40f2f9",
   "metadata": {},
   "outputs": [
    {
     "name": "stdout",
     "output_type": "stream",
     "text": [
      "Enter name :  kannu\n",
      "Enter age :  16\n"
     ]
    },
    {
     "name": "stdout",
     "output_type": "stream",
     "text": [
      "You are not eligible\n"
     ]
    }
   ],
   "source": [
    "#Voting eligible \n",
    "name=input(\"Enter name : \")\n",
    "age=int(input(\"Enter age : \"))\n",
    "\n",
    "if age>=18:\n",
    "        print(\"you are eligible\")\n",
    "else:\n",
    "        print(\"You are not eligible\")"
   ]
  },
  {
   "cell_type": "code",
   "execution_count": 12,
   "id": "0a849d7f-e591-4c5f-a77a-d333849ee081",
   "metadata": {},
   "outputs": [
    {
     "name": "stdout",
     "output_type": "stream",
     "text": [
      "Enter first number:  40\n",
      "Enter second number:  50\n",
      "Enter third number:  90\n"
     ]
    },
    {
     "name": "stdout",
     "output_type": "stream",
     "text": [
      "90.0 is the greatest\n"
     ]
    }
   ],
   "source": [
    "a = float(input(\"Enter first number: \"))\n",
    "b = float(input(\"Enter second number: \"))\n",
    "c = float(input(\"Enter third number: \"))\n",
    "\n",
    "if a > b and a > c:\n",
    "    print(a, \"is the greatest\")\n",
    "elif b > c:\n",
    "    print(b, \"is the greatest\")\n",
    "else:\n",
    "    print(c, \"is the greatest\")"
   ]
  },
  {
   "cell_type": "code",
   "execution_count": 15,
   "id": "e7020b36-b08e-4caf-853d-59f665c9cb46",
   "metadata": {},
   "outputs": [
    {
     "name": "stdout",
     "output_type": "stream",
     "text": [
      "Enter Month :  september\n"
     ]
    },
    {
     "name": "stdout",
     "output_type": "stream",
     "text": [
      "Cool Weather \n"
     ]
    }
   ],
   "source": [
    "month=str(input(\"Enter Month : \"))\n",
    "\n",
    "if month in [\"december\",\"january\",\"february\"]:\n",
    "    print(\"Winter Season  & Cold Weather\")\n",
    "elif month in [\"march\",\"april\",\"may\"]:\n",
    "    print(\"Spring Season\")\n",
    "elif month in [\"june\",\"july\",\"august\"]:\n",
    "    print(\"Summer season, Hot Weather\")\n",
    "elif month in [\"september\",\"october\",\"november\"]:\n",
    "    print(\"Cool Weather \")\n",
    "else:\n",
    "    print(\"Not a month\")"
   ]
  },
  {
   "cell_type": "code",
   "execution_count": 25,
   "id": "4cee40d6-ba9e-4044-8f95-b26b805533ae",
   "metadata": {},
   "outputs": [
    {
     "name": "stdout",
     "output_type": "stream",
     "text": [
      "Choose mode of transport\n",
      "1. Air\n",
      "2. Water\n",
      "3. Land\n"
     ]
    },
    {
     "name": "stdout",
     "output_type": "stream",
     "text": [
      "Enter the mode of transport (1-3):  2\n"
     ]
    },
    {
     "name": "stdout",
     "output_type": "stream",
     "text": [
      "Choose Water Transport:\n",
      "1. Ship\n",
      "2. Cruise\n",
      "3. Boat\n"
     ]
    },
    {
     "name": "stdout",
     "output_type": "stream",
     "text": [
      "Enter your water transport choice (1-3):  1\n"
     ]
    },
    {
     "name": "stdout",
     "output_type": "stream",
     "text": [
      "You selected Ship.\n"
     ]
    }
   ],
   "source": [
    "# 3 MODE TRANSPORT\n",
    "print(\"Choose mode of transport\")\n",
    "print(\"1. Air\")\n",
    "print(\"2. Water\")\n",
    "print(\"3. Land\")\n",
    "mode = input(\"Enter the mode of transport (1-3): \")\n",
    "\n",
    "if mode == \"1\":\n",
    "    print(\"Choose Flight:\")\n",
    "    print(\"1. Air India\")\n",
    "    print(\"2. Qatar Airways\")\n",
    "    print(\"3. Emirates\")\n",
    "    flight = input(\"Enter your flight choice (1-3): \")\n",
    "    if flight == \"1\":\n",
    "        print(\"You selected Air India.\")\n",
    "    elif flight == \"2\":\n",
    "        print(\"You selected Qatar Airways.\")\n",
    "    elif flight == \"3\":\n",
    "        print(\"You selected Emirates.\")\n",
    "    else:\n",
    "        print(\"Invalid flight choice selected.\")\n",
    "elif mode == \"2\":\n",
    "    print(\"Choose Water Transport:\")\n",
    "    print(\"1. Ship\")\n",
    "    print(\"2. Cruise\")\n",
    "    print(\"3. Boat\")\n",
    "    water = input(\"Enter your water transport choice (1-3): \")\n",
    "    if water == \"1\":\n",
    "        print(\"You selected Ship.\")\n",
    "    elif water == \"2\":\n",
    "        print(\"You selected Cruise.\")\n",
    "    elif water == \"3\":\n",
    "        print(\"You selected Boat.\")\n",
    "    else:\n",
    "        print(\"Invalid water transport choice selected.\")\n",
    "elif mode == \"3\":\n",
    "    print(\"Choose Land Transport:\")\n",
    "    print(\"1. Car\")\n",
    "    print(\"2. Bus\")\n",
    "    print(\"3. Train\")\n",
    "    land = input(\"Enter your land transport choice (1-3): \")\n",
    "    if land == \"1\":\n",
    "        print(\"You selected Car.\")\n",
    "    elif land == \"2\":\n",
    "        print(\"You selected Bus.\")\n",
    "    elif land == \"3\":\n",
    "        print(\"You selected Train.\")\n",
    "    else:\n",
    "        print(\"Invalid land transport choice selected.\")\n",
    "else:\n",
    "    print(\"Invalid mode of transport selected.\")"
   ]
  },
  {
   "cell_type": "code",
   "execution_count": 7,
   "id": "dbc7889d-e9e2-4357-a7e5-74f3ed5f8e88",
   "metadata": {},
   "outputs": [
    {
     "name": "stdout",
     "output_type": "stream",
     "text": [
      "Enter number:  2\n"
     ]
    },
    {
     "name": "stdout",
     "output_type": "stream",
     "text": [
      "positive\n"
     ]
    }
   ],
   "source": [
    "#Write a Python program to check whether a number entered by the user is positive or negative.\n",
    "\n",
    "num1 = int(input(\"Enter number: \"))\n",
    "\n",
    "if num1 > 0:\n",
    "    print(\"positive\")\n",
    "elif num1 < 0:\n",
    "    print(\"negative\")\n",
    "elif num1 == 0:\n",
    "    print(\"zero\")"
   ]
  },
  {
   "cell_type": "code",
   "execution_count": 9,
   "id": "07f570f6-e974-4c30-a863-15f762eb2381",
   "metadata": {},
   "outputs": [
    {
     "name": "stdout",
     "output_type": "stream",
     "text": [
      "Enter your age:  15\n"
     ]
    },
    {
     "name": "stdout",
     "output_type": "stream",
     "text": [
      "Teen\n"
     ]
    }
   ],
   "source": [
    "#Take user input for age. Print 'Child' if age < 13, 'Teen' if age < 18, 'Adult' otherwise.\n",
    "\n",
    "age = int(input(\"Enter your age: \"))\n",
    "\n",
    "if age < 13:\n",
    "    print(\"Child\")\n",
    "elif age < 18:\n",
    "    print(\"Teen\")\n",
    "else:\n",
    "    print(\"Adult\")"
   ]
  },
  {
   "cell_type": "code",
   "execution_count": 13,
   "id": "a951ab0b-54f8-40d9-b68b-1f698f1401bd",
   "metadata": {},
   "outputs": [
    {
     "name": "stdout",
     "output_type": "stream",
     "text": [
      "Enter your num:  3\n"
     ]
    },
    {
     "name": "stdout",
     "output_type": "stream",
     "text": [
      "it is a odd number. \n"
     ]
    }
   ],
   "source": [
    "#Write a Python program that checks if a number is even or odd using if-else.\n",
    "\n",
    "\n",
    "num=int(input(\"Enter your num: \"))\n",
    "if (num%2==0):\n",
    "  print(\"even\")\n",
    "else:\n",
    "      print(\"it is a odd number. \")"
   ]
  },
  {
   "cell_type": "code",
   "execution_count": 16,
   "id": "799e32b0-e023-4b7e-98ed-c9ea0b09e873",
   "metadata": {},
   "outputs": [
    {
     "name": "stdout",
     "output_type": "stream",
     "text": [
      "Enter a string:  hello\n"
     ]
    },
    {
     "name": "stdout",
     "output_type": "stream",
     "text": [
      "The string is 5 characters or shorter\n"
     ]
    }
   ],
   "source": [
    "text = input(\"Enter a string: \")\n",
    "\n",
    "if len(text) > 5:\n",
    "    print(\"The string is longer than 5 characters\")\n",
    "else:\n",
    "    print(\"The string is 5 characters or shorter\")"
   ]
  },
  {
   "cell_type": "code",
   "execution_count": 23,
   "id": "4dfeb113-31cd-4e4a-ba33-f315647ab3ef",
   "metadata": {},
   "outputs": [
    {
     "name": "stdout",
     "output_type": "stream",
     "text": [
      "Enter your marks:  43\n"
     ]
    },
    {
     "name": "stdout",
     "output_type": "stream",
     "text": [
      "Grade D\n"
     ]
    }
   ],
   "source": [
    " "
   ]
  },
  {
   "cell_type": "code",
   "execution_count": 28,
   "id": "d3e049a9-1e10-46ff-9939-c9b96e1a3188",
   "metadata": {},
   "outputs": [
    {
     "name": "stdout",
     "output_type": "stream",
     "text": [
      "Enter Number:  2\n"
     ]
    },
    {
     "name": "stdout",
     "output_type": "stream",
     "text": [
      "2\n",
      "4\n",
      "6\n",
      "8\n",
      "10\n",
      "12\n",
      "14\n",
      "16\n",
      "18\n",
      "20\n"
     ]
    }
   ],
   "source": [
    "a = int(input(\"Enter Number: \"))\n",
    "i = 1 \n",
    "while i <= 10:\n",
    "    c = a * i\n",
    "    print(c)\n",
    "    i += 1 "
   ]
  },
  {
   "cell_type": "code",
   "execution_count": 2,
   "id": "41b2dee4",
   "metadata": {},
   "outputs": [
    {
     "name": "stdout",
     "output_type": "stream",
     "text": [
      "Enter a number :  2\n"
     ]
    },
    {
     "name": "stdout",
     "output_type": "stream",
     "text": [
      "2 * 1 = 2\n",
      "2 * 2 = 4\n",
      "2 * 3 = 6\n",
      "2 * 4 = 8\n",
      "2 * 5 = 10\n",
      "2 * 6 = 12\n",
      "2 * 7 = 14\n",
      "2 * 8 = 16\n",
      "2 * 9 = 18\n",
      "2 * 10 = 20\n"
     ]
    }
   ],
   "source": [
    "num = int(input(\"Enter a number : \"))\n",
    "i=1\n",
    "\n",
    "while i<=10:\n",
    "    print(f\"{num} * {i} = {num*i}\")\n",
    "    i+=1"
   ]
  },
  {
   "cell_type": "code",
   "execution_count": 9,
   "id": "d4b6c1b2-6c6c-4c3f-8a24-8688a6227af9",
   "metadata": {},
   "outputs": [
    {
     "name": "stdout",
     "output_type": "stream",
     "text": [
      "Enter password :  D\n"
     ]
    },
    {
     "name": "stdout",
     "output_type": "stream",
     "text": [
      "Wrong statement! 2 attempts left.\n"
     ]
    },
    {
     "name": "stdout",
     "output_type": "stream",
     "text": [
      "Enter password :  OPEN\n"
     ]
    },
    {
     "name": "stdout",
     "output_type": "stream",
     "text": [
      "Wrong statement! 1 attempts left.\n"
     ]
    },
    {
     "name": "stdout",
     "output_type": "stream",
     "text": [
      "Enter password :  open\n"
     ]
    },
    {
     "name": "stdout",
     "output_type": "stream",
     "text": [
      "Access Granted.\n"
     ]
    }
   ],
   "source": [
    "password = \"open\"\n",
    "attempts =3\n",
    "\n",
    "while attempts>0:\n",
    "    user_input = input(\"Enter password : \")\n",
    "    if user_input == password:\n",
    "        print(\"Access Granted.\")\n",
    "        break\n",
    "    else:\n",
    "        attempts-=1\n",
    "        print(f\"Wrong statement! {attempts} attempts left.\")"
   ]
  },
  {
   "cell_type": "code",
   "execution_count": 3,
   "id": "5bb42562-420e-46dc-9e9d-0891704aebac",
   "metadata": {},
   "outputs": [
    {
     "name": "stdout",
     "output_type": "stream",
     "text": [
      "Enter password:  \n"
     ]
    },
    {
     "name": "stdout",
     "output_type": "stream",
     "text": [
      "Wrong password! 3 attempts left.\n"
     ]
    },
    {
     "name": "stdout",
     "output_type": "stream",
     "text": [
      "Enter password:  \n"
     ]
    },
    {
     "name": "stdout",
     "output_type": "stream",
     "text": [
      "2 attempts skipped\n"
     ]
    },
    {
     "name": "stdout",
     "output_type": "stream",
     "text": [
      "Enter password:  \n"
     ]
    },
    {
     "name": "stdout",
     "output_type": "stream",
     "text": [
      "Access Denied. No attempts left.\n"
     ]
    }
   ],
   "source": [
    "password = \"open\"\n",
    "attempts = 4\n",
    "\n",
    "while attempts > 0:\n",
    "    user_input = input(\"Enter password: \")\n",
    "    if user_input == password:\n",
    "        print(\"Access Granted.\")\n",
    "        break\n",
    "    else:\n",
    "        attempts -= 1\n",
    "        if attempts == 2:\n",
    "            print(\"2 attempts skipped\")\n",
    "            attempts-= 1  # Skip attempt 2, jump directly to 1\n",
    "            continue\n",
    "        if attempts > 0:\n",
    "            print(f\"Wrong password! {attempts} attempts left.\")\n",
    "        else:\n",
    "            print(\"Access Denied. No attempts left.\")\n",
    "            break"
   ]
  },
  {
   "cell_type": "code",
   "execution_count": 38,
   "id": "3115c9ee-1839-4fa2-8e85-406ad36ba560",
   "metadata": {},
   "outputs": [
    {
     "name": "stdout",
     "output_type": "stream",
     "text": [
      "Number :  1\n",
      "Number :  2\n",
      "Number :  3\n",
      "Number :  4\n",
      "Number :  5\n"
     ]
    }
   ],
   "source": [
    "# Range\n",
    "# Print 1 to 5\n",
    "for i in range(1,6):\n",
    "    print(\"Number : \",i)"
   ]
  },
  {
   "cell_type": "code",
   "execution_count": 41,
   "id": "1240834d-a638-401f-b698-14d984234bd6",
   "metadata": {},
   "outputs": [
    {
     "name": "stdout",
     "output_type": "stream",
     "text": [
      "1\n",
      "2\n",
      "3\n",
      "4\n"
     ]
    }
   ],
   "source": [
    "for i in range(1,10):\n",
    "    if i == 5:\n",
    "        break\n",
    "    print(i)"
   ]
  },
  {
   "cell_type": "code",
   "execution_count": 42,
   "id": "297cf310-e567-42dd-a3af-e2924af204c1",
   "metadata": {},
   "outputs": [
    {
     "name": "stdout",
     "output_type": "stream",
     "text": [
      "Enter a number : 3\n"
     ]
    },
    {
     "name": "stdout",
     "output_type": "stream",
     "text": [
      "3 * 1 = 3\n",
      "3 * 2 = 6\n",
      "3 * 3 = 9\n",
      "3 * 4 = 12\n",
      "3 * 5 = 15\n",
      "3 * 6 = 18\n",
      "3 * 7 = 21\n",
      "3 * 8 = 24\n",
      "3 * 9 = 27\n",
      "3 * 10 = 30\n"
     ]
    }
   ],
   "source": [
    "# table\n",
    "num = int(input(\"Enter a number :\"))\n",
    "for i in range(1,11):\n",
    "    print(f\"{num} * {i} = {num * i}\")"
   ]
  },
  {
   "cell_type": "code",
   "execution_count": null,
   "id": "feabf4ee-e5f2-4e1a-bba9-2b61453f3b0a",
   "metadata": {},
   "outputs": [],
   "source": [
    "# Test 2 "
   ]
  },
  {
   "cell_type": "code",
   "execution_count": 18,
   "id": "4dccd0ec-bbd8-4a56-a21e-45066f02cee9",
   "metadata": {},
   "outputs": [
    {
     "name": "stdout",
     "output_type": "stream",
     "text": [
      "Enter a number:  21\n"
     ]
    },
    {
     "name": "stdout",
     "output_type": "stream",
     "text": [
      "21 is divisible by both 3 and 7\n"
     ]
    }
   ],
   "source": [
    "# Q.1\n",
    "num = int(input(\"Enter a number: \"))\n",
    "if num % 3 == 0 and num % 7 == 0:\n",
    "    print(f\"{num} is divisible by both 3 and 7\")\n",
    "else:\n",
    "    print(f\"{num} is not divisible by both 3 and 7\")"
   ]
  },
  {
   "cell_type": "code",
   "execution_count": 12,
   "id": "5eec042c-1968-4d6a-bdbd-b16ae6e98c4d",
   "metadata": {
    "scrolled": true
   },
   "outputs": [
    {
     "name": "stdout",
     "output_type": "stream",
     "text": [
      "2\n",
      "4\n",
      "6\n",
      "8\n",
      "10\n",
      "12\n",
      "14\n",
      "16\n",
      "18\n",
      "20\n",
      "22\n",
      "24\n",
      "26\n",
      "28\n",
      "30\n",
      "32\n",
      "34\n",
      "36\n",
      "38\n",
      "40\n",
      "42\n",
      "44\n",
      "46\n",
      "48\n",
      "50\n",
      "52\n",
      "54\n",
      "56\n",
      "58\n",
      "60\n",
      "62\n",
      "64\n",
      "66\n",
      "68\n",
      "70\n",
      "72\n",
      "74\n",
      "76\n",
      "78\n",
      "80\n",
      "82\n",
      "84\n",
      "86\n",
      "88\n",
      "90\n",
      "92\n",
      "94\n",
      "96\n",
      "98\n",
      "100\n",
      "\n",
      "\n"
     ]
    }
   ],
   "source": [
    "for i in range(2, 101, 2):\n",
    "    print(i)\n",
    "print(\"\\n\")"
   ]
  },
  {
   "cell_type": "code",
   "execution_count": 17,
   "id": "d6232fec-968a-4d93-b561-401ce0868728",
   "metadata": {},
   "outputs": [
    {
     "name": "stdout",
     "output_type": "stream",
     "text": [
      "Enter n1 :  2\n",
      "Enter n2 :  3\n",
      "Enter n2 :  4\n"
     ]
    },
    {
     "name": "stdout",
     "output_type": "stream",
     "text": [
      "n3 is greatest\n"
     ]
    }
   ],
   "source": [
    "n1 = int(input(\"Enter n1 : \"))\n",
    "n2 = int(input(\"Enter n2 : \"))\n",
    "n3 = int(input(\"Enter n2 : \"))\n",
    "\n",
    "if n1 >= n2:\n",
    "    if n1 >= n3:\n",
    "        print(\"n1 is greatest\")\n",
    "    else:\n",
    "        print(\"n3 is greatest\")\n",
    "else:\n",
    "    if n2 >= n3:\n",
    "        print(\"n2 is greatest\")\n",
    "    else:\n",
    "        print(\"n3 is greatest\")\n"
   ]
  },
  {
   "cell_type": "code",
   "execution_count": 22,
   "id": "7d0f1c74-a1f5-4ce3-b33b-53566856516f",
   "metadata": {},
   "outputs": [
    {
     "name": "stdout",
     "output_type": "stream",
     "text": [
      "Enter a table number : 3\n"
     ]
    },
    {
     "name": "stdout",
     "output_type": "stream",
     "text": [
      "3 * 1 = 3\n",
      "3 * 2 = 6\n",
      "3 * 3 = 9\n",
      "3 * 4 = 12\n",
      "3 * 5 = 15\n",
      "3 * 6 = 18\n",
      "3 * 7 = 21\n",
      "3 * 8 = 24\n",
      "3 * 9 = 27\n",
      "3 * 10 = 30\n"
     ]
    }
   ],
   "source": [
    "num = int(input(\"Enter a table number :\"))\n",
    "for i in range(1,11):\n",
    "    print(f\"{num} * {i} = {num * i}\")"
   ]
  },
  {
   "cell_type": "code",
   "execution_count": 32,
   "id": "dd87324e-e82a-4ce7-9fd1-a9cfec63ef54",
   "metadata": {},
   "outputs": [
    {
     "name": "stdout",
     "output_type": "stream",
     "text": [
      "Numbers divisible by 5: 20\n"
     ]
    }
   ],
   "source": [
    "# Q.6\n",
    "first = 0\n",
    "for num in range(1, 101):\n",
    "    if num % 5 == 0:\n",
    "        first += 1\n",
    "print(f\"Numbers divisible by 5: {first}\")"
   ]
  },
  {
   "cell_type": "code",
   "execution_count": 39,
   "id": "bac040a5-2747-4b1b-91da-4a06c511f751",
   "metadata": {},
   "outputs": [
    {
     "name": "stdout",
     "output_type": "stream",
     "text": [
      "Enter a year:  3000\n"
     ]
    },
    {
     "name": "stdout",
     "output_type": "stream",
     "text": [
      "3000 is not leap year\n"
     ]
    }
   ],
   "source": [
    "# Q7.Check leap year\n",
    "year = int(input(\"Enter a year: \"))\n",
    "if (year % 4 == 0 and year % 100 != 0) or (year % 400 == 0):\n",
    "    print(f\"{year} is leap year\")\n",
    "else:\n",
    "    print(f\"{year} is not leap year\")"
   ]
  },
  {
   "cell_type": "code",
   "execution_count": 43,
   "id": "0ed81450-c46a-47ae-832b-4314de02c764",
   "metadata": {},
   "outputs": [
    {
     "name": "stdout",
     "output_type": "stream",
     "text": [
      "Enter a number:  3\n"
     ]
    },
    {
     "name": "stdout",
     "output_type": "stream",
     "text": [
      "Factorial is 6\n"
     ]
    }
   ],
   "source": [
    "# Q8. Factorial of a number\"\n",
    "num = int(input(\"Enter a number: \"))\n",
    "factorial = 1\n",
    "for i in range(1, num + 1):\n",
    "    factorial *= i\n",
    "print(f\"Factorial is {factorial}\")"
   ]
  },
  {
   "cell_type": "code",
   "execution_count": 46,
   "id": "4c19bbc7-f54b-4676-a36e-a2920432ec1f",
   "metadata": {},
   "outputs": [
    {
     "name": "stdout",
     "output_type": "stream",
     "text": [
      "Enter a number:  -5\n"
     ]
    },
    {
     "name": "stdout",
     "output_type": "stream",
     "text": [
      "negative\n"
     ]
    }
   ],
   "source": [
    "#Positive,negative and zero\n",
    "num1 = int(input(\"Enter a number: \"))\n",
    "\n",
    "if num1 > 0:\n",
    "    print(\"positive\")\n",
    "elif num1 < 0:\n",
    "    print(\"negative\")\n",
    "elif num1 == 0:\n",
    "    print(\"zero\")"
   ]
  },
  {
   "cell_type": "code",
   "execution_count": 50,
   "id": "a5c29a2b-98ef-49ec-962d-18f4ae3127d5",
   "metadata": {},
   "outputs": [
    {
     "name": "stdout",
     "output_type": "stream",
     "text": [
      "Enter number TO CHECK THIS :  20\n"
     ]
    },
    {
     "name": "stdout",
     "output_type": "stream",
     "text": [
      "It is even and greater than 10\n"
     ]
    }
   ],
   "source": [
    "num = int(input(\"Enter number TO CHECK THIS : \"))\n",
    "if num % 2 == 0 and num > 10:\n",
    "    print(\"It is even and greater than 10\")\n",
    "else:\n",
    "    print(\"It is not even and greater than 10\")"
   ]
  },
  {
   "cell_type": "code",
   "execution_count": 51,
   "id": "d2d71328-0eb2-4652-87c1-f3b44dd4d826",
   "metadata": {},
   "outputs": [
    {
     "name": "stdout",
     "output_type": "stream",
     "text": [
      "1\n",
      "2\n",
      "4\n",
      "5\n",
      "7\n",
      "8\n",
      "10\n",
      "11\n",
      "13\n",
      "14\n",
      "16\n",
      "17\n",
      "19\n",
      "20\n",
      "22\n",
      "23\n",
      "25\n",
      "26\n",
      "28\n",
      "29\n",
      "31\n",
      "32\n",
      "34\n",
      "35\n",
      "37\n",
      "38\n",
      "40\n",
      "41\n",
      "43\n",
      "44\n",
      "46\n",
      "47\n",
      "49\n",
      "50\n"
     ]
    }
   ],
   "source": [
    "for a in range(1, 51):\n",
    "    if a % 3 == 0:\n",
    "        continue\n",
    "    print(a)"
   ]
  },
  {
   "cell_type": "code",
   "execution_count": 58,
   "id": "ae6bad97-3319-446a-b7bd-25b9afbce46a",
   "metadata": {},
   "outputs": [
    {
     "name": "stdout",
     "output_type": "stream",
     "text": [
      "Enter a string:  hez\n"
     ]
    },
    {
     "name": "stdout",
     "output_type": "stream",
     "text": [
      "h\n",
      "e\n"
     ]
    }
   ],
   "source": [
    "value = input(\"Enter a string: \")\n",
    "for char in value:\n",
    "    if char == 'z':\n",
    "        break\n",
    "    print(char)"
   ]
  },
  {
   "cell_type": "code",
   "execution_count": 61,
   "id": "400782e2-c3bb-4930-9944-efeb6813dad5",
   "metadata": {},
   "outputs": [
    {
     "name": "stdout",
     "output_type": "stream",
     "text": [
      "Enter number :  3\n",
      "Enter number :  4\n",
      "Enter number :  5\n",
      "Enter number :  6\n",
      "Enter number :  7\n"
     ]
    },
    {
     "name": "stdout",
     "output_type": "stream",
     "text": [
      "Average of this numbers is : 21.4\n"
     ]
    }
   ],
   "source": [
    "for i in range(5):\n",
    "    num = int(input(\"Enter number : \"))\n",
    "    total += num\n",
    "average = total / 5\n",
    "print(f\"Average of this numbers is : {average}\")"
   ]
  },
  {
   "cell_type": "code",
   "execution_count": null,
   "id": "f783b8f1-677b-4a40-a230-e61324e56ead",
   "metadata": {},
   "outputs": [],
   "source": [
    "num="
   ]
  },
  {
   "cell_type": "code",
   "execution_count": 62,
   "id": "69072b29-33a8-4210-8627-6d02538f374e",
   "metadata": {},
   "outputs": [
    {
     "name": "stdout",
     "output_type": "stream",
     "text": [
      "99\n",
      "97\n",
      "95\n",
      "93\n",
      "91\n",
      "89\n",
      "87\n",
      "85\n",
      "83\n",
      "81\n",
      "79\n",
      "77\n",
      "75\n",
      "73\n",
      "71\n",
      "69\n",
      "67\n",
      "65\n",
      "63\n",
      "61\n",
      "59\n",
      "57\n",
      "55\n",
      "53\n",
      "51\n"
     ]
    }
   ],
   "source": [
    "i = 99\n",
    "while i >= 51:\n",
    "    if i % 2 == 1:\n",
    "        print(i)\n",
    "    i -= 1"
   ]
  },
  {
   "cell_type": "code",
   "execution_count": 64,
   "id": "f349b337-6665-4d79-a24e-1abf428fe13b",
   "metadata": {},
   "outputs": [
    {
     "name": "stdout",
     "output_type": "stream",
     "text": [
      "Enter number:  1\n",
      "Enter number:  2\n",
      "Enter number:  3\n",
      "Enter number:  4\n",
      "Enter number:  -5\n",
      "Enter number:  6\n",
      "Enter number:  6\n",
      "Enter number:  -5\n",
      "Enter number:  5\n",
      "Enter number:  5\n"
     ]
    },
    {
     "name": "stdout",
     "output_type": "stream",
     "text": [
      "positive numbers are all: 8\n"
     ]
    }
   ],
   "source": [
    "count = 0\n",
    "for i in range(10):\n",
    "    num = int(input(\"Enter number: \"))\n",
    "    if num > 0:\n",
    "        count += 1\n",
    "print(\"positive numbers are all: {count}\")\n"
   ]
  },
  {
   "cell_type": "code",
   "execution_count": 66,
   "id": "7b695009-2248-4b49-ac23-e835407b97fb",
   "metadata": {},
   "outputs": [
    {
     "name": "stdout",
     "output_type": "stream",
     "text": [
      "50\n",
      "49\n",
      "48\n",
      "47\n",
      "46\n",
      "45\n",
      "44\n",
      "43\n",
      "42\n",
      "41\n",
      "40\n",
      "39\n",
      "38\n",
      "37\n",
      "36\n",
      "35\n",
      "34\n",
      "33\n",
      "32\n",
      "31\n",
      "30\n",
      "29\n",
      "28\n",
      "27\n",
      "26\n",
      "25\n",
      "24\n",
      "23\n",
      "22\n",
      "21\n",
      "20\n",
      "19\n",
      "18\n",
      "17\n",
      "16\n",
      "15\n",
      "14\n",
      "13\n",
      "12\n",
      "11\n",
      "10\n",
      "9\n",
      "8\n",
      "7\n",
      "6\n",
      "5\n",
      "4\n",
      "3\n",
      "2\n",
      "1\n"
     ]
    }
   ],
   "source": [
    "number = 50\n",
    "while number >= 1:\n",
    "    print(number)\n",
    "    number = number - 1 "
   ]
  },
  {
   "cell_type": "code",
   "execution_count": 70,
   "id": "44910499-57cc-44b7-b54b-63d2c0abe83e",
   "metadata": {},
   "outputs": [
    {
     "name": "stdout",
     "output_type": "stream",
     "text": [
      "1\n",
      "2\n",
      "3\n",
      "5\n",
      "6\n",
      "7\n",
      "9\n",
      "10\n",
      "11\n",
      "13\n",
      "14\n",
      "15\n",
      "17\n",
      "18\n",
      "19\n",
      "21\n",
      "22\n",
      "23\n",
      "25\n",
      "26\n",
      "27\n",
      "29\n",
      "30\n"
     ]
    }
   ],
   "source": [
    "for i in range(1, 31):\n",
    "    if i % 4 == 0:\n",
    "        continue\n",
    "    print(i)"
   ]
  },
  {
   "cell_type": "code",
   "execution_count": 3,
   "id": "8dfbface-916e-4600-895c-0f75a0e04e93",
   "metadata": {},
   "outputs": [
    {
     "name": "stdout",
     "output_type": "stream",
     "text": [
      "It is a vowel\n"
     ]
    }
   ],
   "source": [
    "char = input(\"Enter a character value here: \")\n",
    "if char in 'aeiou':\n",
    "    print(\"It is a vowel\")\n",
    "else:\n",
    "    print(\"It is not a vowel\")"
   ]
  },
  {
   "cell_type": "code",
   "execution_count": 2,
   "id": "dbc680d8-a7d9-4caa-b17f-45d8b4694324",
   "metadata": {},
   "outputs": [
    {
     "ename": "NameError",
     "evalue": "name 'first' is not defined",
     "output_type": "error",
     "traceback": [
      "\u001b[1;31m---------------------------------------------------------------------------\u001b[0m",
      "\u001b[1;31mNameError\u001b[0m                                 Traceback (most recent call last)",
      "Cell \u001b[1;32mIn[2], line 5\u001b[0m\n\u001b[0;32m      2\u001b[0m firs \u001b[38;5;241m=\u001b[39m \u001b[38;5;28mint\u001b[39m(\u001b[38;5;28minput\u001b[39m(\u001b[38;5;124m\"\u001b[39m\u001b[38;5;124mEnter first number: \u001b[39m\u001b[38;5;124m\"\u001b[39m))\n\u001b[0;32m      3\u001b[0m second \u001b[38;5;241m=\u001b[39m \u001b[38;5;28mint\u001b[39m(\u001b[38;5;28minput\u001b[39m(\u001b[38;5;124m\"\u001b[39m\u001b[38;5;124mEnter second number: \u001b[39m\u001b[38;5;124m\"\u001b[39m))\n\u001b[1;32m----> 5\u001b[0m first \u001b[38;5;241m=\u001b[39m first \u001b[38;5;241m+\u001b[39m second    \n\u001b[0;32m      6\u001b[0m second \u001b[38;5;241m=\u001b[39m first \u001b[38;5;241m-\u001b[39m second   \n\u001b[0;32m      7\u001b[0m first \u001b[38;5;241m=\u001b[39m first \u001b[38;5;241m-\u001b[39m second   \n",
      "\u001b[1;31mNameError\u001b[0m: name 'first' is not defined"
     ]
    }
   ],
   "source": [
    "# Q18: Number swapper\n",
    "firs = int(input(\"Enter first number: \"))\n",
    "second = int(input(\"Enter second number: \"))\n",
    "\n",
    "first = first + second    \n",
    "second = first - second   \n",
    "first = first - second   \n",
    "\n",
    "print(f\"first = {first}, second = {second}\")\n",
    "print()"
   ]
  },
  {
   "cell_type": "code",
   "execution_count": null,
   "id": "3bd24609-b4e0-4ca4-874d-d4dce82b24a3",
   "metadata": {},
   "outputs": [],
   "source": []
  },
  {
   "cell_type": "code",
   "execution_count": null,
   "id": "fb4bd1fc",
   "metadata": {},
   "outputs": [],
   "source": []
  }
 ],
 "metadata": {
  "kernelspec": {
   "display_name": "Python [conda env:base] *",
   "language": "python",
   "name": "conda-base-py"
  },
  "language_info": {
   "codemirror_mode": {
    "name": "ipython",
    "version": 3
   },
   "file_extension": ".py",
   "mimetype": "text/x-python",
   "name": "python",
   "nbconvert_exporter": "python",
   "pygments_lexer": "ipython3",
   "version": "3.13.5"
  }
 },
 "nbformat": 4,
 "nbformat_minor": 5
}
