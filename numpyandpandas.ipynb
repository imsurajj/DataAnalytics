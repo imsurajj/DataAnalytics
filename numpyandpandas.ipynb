{
 "cells": [
  {
   "cell_type": "code",
   "execution_count": null,
   "id": "a84cdf1a-6906-4709-b697-3bd6c46500f1",
   "metadata": {},
   "outputs": [],
   "source": [
    "#numpy\n",
    "#seaborn\n",
    "#pandas\n",
    "#matplotlib\n",
    "\n",
    "\n",
    "python -m ensurepip --default-pip\n",
    "python -m pip install --upgrade pip\n"
   ]
  },
  {
   "cell_type": "code",
   "execution_count": 2,
   "id": "26c41d89-5415-4966-97f1-237a485d9e63",
   "metadata": {},
   "outputs": [],
   "source": [
    "import numpy as np"
   ]
  },
  {
   "cell_type": "code",
   "execution_count": null,
   "id": "c26da5db-8ca4-4600-8054-1bf8a2b6c411",
   "metadata": {},
   "outputs": [],
   "source": [
    "a = np.array([1, 2, 3])\n",
    "b = np.array([[1, 2], [3, 4]])\n",
    "print(a)\n",
    "print(b)\n"
   ]
  },
  {
   "cell_type": "code",
   "execution_count": null,
   "id": "0863a767-b69e-48b8-8458-9c064a7047bd",
   "metadata": {},
   "outputs": [],
   "source": [
    "arr = np.array([[1, 2, 3], [4, 5, 6]])\n",
    "\n",
    "print(arr.shape)     # (2, 3)\n",
    "print(arr.size)      # 6\n",
    "print(arr.ndim)      # 2\n",
    "print(arr.dtype)     # int64\n"
   ]
  },
  {
   "cell_type": "code",
   "execution_count": null,
   "id": "1d8e68a0-5727-49f3-a737-e61f5e79bce5",
   "metadata": {},
   "outputs": [],
   "source": [
    "a = np.array([1, 2, 3, 4, 5, 6])\n",
    "print(a.reshape(2, 3))\n"
   ]
  },
  {
   "cell_type": "code",
   "execution_count": null,
   "id": "ca2ec7a5-ff14-4bf8-8c76-cd738207789c",
   "metadata": {},
   "outputs": [],
   "source": [
    "arr = np.array([10, 20, 30, 40, 50])\n",
    "print(arr[1])       # 20\n",
    "print(arr[1:4])     # [20 30 40]\n"
   ]
  },
  {
   "cell_type": "code",
   "execution_count": null,
   "id": "c5371300-6524-498c-b821-a84611975da3",
   "metadata": {},
   "outputs": [],
   "source": [
    "print(np.zeros((2, 3)))         # 2x3 array of 0\n",
    "print(np.ones((3, 3)))          # 3x3 array of 1\n",
    "print(np.eye(3,3))                # Identity matrix\n",
    "print(np.full((2, 2), 7))       # Filled with 7\n",
    "print(np.arange(1, 10, 2))      # [1 3 5 7 9]\n",
    "print(np.linspace(1, 5, 4))     # [1. 2.33 3.66 5.]\n"
   ]
  },
  {
   "cell_type": "code",
   "execution_count": null,
   "id": "2429b79a-2ee7-4d81-a7bd-8b7d71a287e2",
   "metadata": {},
   "outputs": [],
   "source": [
    "a = np.array([1, 2, 3])\n",
    "b = np.array([4, 5, 6])\n",
    "\n",
    "print(a + b)      # [5 7 9]\n",
    "print(a * b)      # [4 10 18]\n",
    "print(a ** 2)     # [1 4 9]\n",
    "print(np.sqrt(a)) # [1. 1.41 1.73]\n",
    "print(np.mean(a)) # 2.0\n"
   ]
  },
  {
   "cell_type": "code",
   "execution_count": null,
   "id": "831031cd-e0c2-47c1-8c2d-6023dd247c4a",
   "metadata": {},
   "outputs": [],
   "source": [
    "arr = np.array([[1, 2, 3], [4, 5, 6]])\n",
    "\n",
    "print(np.sum(arr))          # 21\n",
    "print(np.min(arr))          # 1\n",
    "print(np.max(arr))          # 6\n",
    "print(np.sum(arr, axis=0))  # [5 7 9] (column-wise)\n",
    "print(np.sum(arr, axis=1))  # [6 15]  (row-wise)\n"
   ]
  },
  {
   "cell_type": "code",
   "execution_count": null,
   "id": "9746a8c1-c32a-4f58-acc5-d7392b0c74f0",
   "metadata": {},
   "outputs": [],
   "source": [
    "arr = np.array([4, 1, 5, 2])\n",
    "print(np.sort(arr))  # [1 2 4 5]\n"
   ]
  },
  {
   "cell_type": "code",
   "execution_count": null,
   "id": "800ea93a-0191-4456-891f-c430adeb5a51",
   "metadata": {},
   "outputs": [],
   "source": [
    "a = np.array([1, 2, 3])\n",
    "b = a.copy()\n",
    "c = a.view()\n",
    "\n",
    "a[0] = 99\n",
    "\n",
    "print(b)  # [1 2 3] (copy remains same)\n",
    "print(c)  # [99 2 3] (view reflects change)\n"
   ]
  },
  {
   "cell_type": "code",
   "execution_count": null,
   "id": "b4705b73-a672-4729-bc5f-697a3abac637",
   "metadata": {},
   "outputs": [],
   "source": [
    "arr = np.array([[1, 2], [3, 4]])\n",
    "print(arr.flatten())  # [1 2 3 4]\n"
   ]
  },
  {
   "cell_type": "code",
   "execution_count": null,
   "id": "161aa26f-0f50-4d89-9c29-45a578a1fc3e",
   "metadata": {},
   "outputs": [],
   "source": [
    "arr = np.array([[1, 2, 3], [4, 5, 6]])\n",
    "print(arr.T)\n"
   ]
  },
  {
   "cell_type": "code",
   "execution_count": null,
   "id": "8dc93435-c917-4591-925d-4de32fa82113",
   "metadata": {},
   "outputs": [],
   "source": [
    "a = np.array([[1, 2], [3, 4]])\n",
    "b = np.array([[2, 0], [1, 2]])\n",
    "\n",
    "print(np.dot(a, b))  # Matrix multiplication\n"
   ]
  },
  {
   "cell_type": "code",
   "execution_count": null,
   "id": "ec86abd3-c846-4809-8e9e-743014b5cbec",
   "metadata": {},
   "outputs": [],
   "source": [
    "#pandas\n"
   ]
  },
  {
   "cell_type": "code",
   "execution_count": null,
   "id": "896bf117-bbcb-4b43-a612-8d589a418692",
   "metadata": {},
   "outputs": [],
   "source": [
    "import pandas as pd\n"
   ]
  },
  {
   "cell_type": "code",
   "execution_count": null,
   "id": "d6c4e808-3910-4eed-9443-9693f1d8b3cf",
   "metadata": {},
   "outputs": [],
   "source": [
    " # From dictionary\n",
    "data = {\n",
    "    'Name': ['Divyank', 'Riya', 'Aryan'],\n",
    "    'Age': [21, 20, 22],\n",
    "    'Marks': [88, 92, 79]\n",
    "}\n",
    "df = pd.DataFrame(data)\n",
    "print(df)\n",
    " "
   ]
  },
  {
   "cell_type": "code",
   "execution_count": null,
   "id": "c3edda4a-8979-4b48-8a6e-df2fcfe628cf",
   "metadata": {},
   "outputs": [],
   "source": [
    "df = pd.read_csv('data.csv')\n",
    "df.to_csv('output.csv', index=False)\n",
    "\n",
    "df_excel = pd.read_excel('file.xlsx')\n",
    "df_excel.to_excel('output.xlsx', index=False)\n"
   ]
  },
  {
   "cell_type": "code",
   "execution_count": null,
   "id": "4aab6f82",
   "metadata": {},
   "outputs": [
    {
     "name": "stdout",
     "output_type": "stream",
     "text": [
      "                    title         year certificate duration  \\\n",
      "0               Cobra Kai     (2018– )       TV-14   30 min   \n",
      "1               The Crown     (2016– )       TV-MA   58 min   \n",
      "2        Better Call Saul  (2015–2022)       TV-MA   46 min   \n",
      "3           Devil in Ohio        -2022       TV-MA  356 min   \n",
      "4  Cyberpunk: Edgerunners     (2022– )       TV-MA   24 min   \n",
      "\n",
      "                          genre  rating  \\\n",
      "0         Action, Comedy, Drama     8.5   \n",
      "1     Biography, Drama, History     8.7   \n",
      "2                  Crime, Drama     8.9   \n",
      "3        Drama, Horror, Mystery     5.9   \n",
      "4  Animation, Action, Adventure     8.6   \n",
      "\n",
      "                                         description  \\\n",
      "0  Decades after their 1984 All Valley Karate Tou...   \n",
      "1  Follows the political rivalries and romance of...   \n",
      "2  The trials and tribulations of criminal lawyer...   \n",
      "3  When a psychiatrist shelters a mysterious cult...   \n",
      "4  A Street Kid trying to survive in a technology...   \n",
      "\n",
      "                                               stars    votes  \n",
      "0  ['Ralph Macchio, ', 'William Zabka, ', 'Courtn...  177,031  \n",
      "1  ['Claire Foy, ', 'Olivia Colman, ', 'Imelda St...  199,885  \n",
      "2  ['Bob Odenkirk, ', 'Rhea Seehorn, ', 'Jonathan...  501,384  \n",
      "3  ['Emily Deschanel, ', 'Sam Jaeger, ', 'Gerardo...    9,773  \n",
      "4  ['Zach Aguilar, ', 'Kenichiro Ohashi, ', 'Emi ...   15,413  \n",
      "     title         year certificate duration                      genre  \\\n",
      "9952   NaN     (2022– )       TV-MA   45 min   Action, Adventure, Drama   \n",
      "9953   NaN  (2010–2022)       TV-MA   44 min    Drama, Horror, Thriller   \n",
      "9954   NaN     (2016– )       TV-MA   58 min  Biography, Drama, History   \n",
      "9955   NaN  (2005–2020)       TV-14   44 min     Drama, Fantasy, Horror   \n",
      "9956   NaN        -2022       TV-MA  356 min     Drama, Horror, Mystery   \n",
      "\n",
      "      rating                                        description  \\\n",
      "9952     6.3  After an experimental gene therapy turns them ...   \n",
      "9953     8.1  Sheriff Deputy Rick Grimes wakes up from a com...   \n",
      "9954     8.7  Follows the political rivalries and romance of...   \n",
      "9955     8.4  Two brothers follow their father's footsteps a...   \n",
      "9956     5.9  When a psychiatrist shelters a mysterious cult...   \n",
      "\n",
      "                                                  stars    votes  \n",
      "9952  ['Morgan Taylor Campbell, ', 'Italia Ricci, ',...    3,130  \n",
      "9953  ['Andrew Lincoln, ', 'Norman Reedus, ', 'Melis...  970,067  \n",
      "9954  ['Claire Foy, ', 'Olivia Colman, ', 'Imelda St...  199,898  \n",
      "9955  ['Jared Padalecki, ', 'Jensen Ackles, ', 'Jim ...  439,601  \n",
      "9956  ['Emily Deschanel, ', 'Sam Jaeger, ', 'Gerardo...    9,786  \n",
      "<class 'pandas.core.frame.DataFrame'>\n",
      "RangeIndex: 9957 entries, 0 to 9956\n",
      "Data columns (total 9 columns):\n",
      " #   Column       Non-Null Count  Dtype  \n",
      "---  ------       --------------  -----  \n",
      " 0   title        7912 non-null   object \n",
      " 1   year         9430 non-null   object \n",
      " 2   certificate  6504 non-null   object \n",
      " 3   duration     7921 non-null   object \n",
      " 4   genre        9884 non-null   object \n",
      " 5   rating       8784 non-null   float64\n",
      " 6   description  9957 non-null   object \n",
      " 7   stars        9957 non-null   object \n",
      " 8   votes        8784 non-null   object \n",
      "dtypes: float64(1), object(8)\n",
      "memory usage: 700.2+ KB\n",
      "None\n",
      "            rating\n",
      "count  8784.000000\n",
      "mean      6.764515\n",
      "std       1.214840\n",
      "min       1.700000\n",
      "25%       6.100000\n",
      "50%       6.900000\n",
      "75%       7.600000\n",
      "max       9.900000\n",
      "Index(['title', 'year', 'certificate', 'duration', 'genre', 'rating',\n",
      "       'description', 'stars', 'votes'],\n",
      "      dtype='object')\n",
      "RangeIndex(start=0, stop=9957, step=1)\n",
      "(9957, 9)\n",
      "title           object\n",
      "year            object\n",
      "certificate     object\n",
      "duration        object\n",
      "genre           object\n",
      "rating         float64\n",
      "description     object\n",
      "stars           object\n",
      "votes           object\n",
      "dtype: object\n",
      "title          2045\n",
      "year            527\n",
      "certificate    3453\n",
      "duration       2036\n",
      "genre            73\n",
      "rating         1173\n",
      "description       0\n",
      "stars             0\n",
      "votes          1173\n",
      "dtype: int64\n",
      "10480\n",
      "11.694731791146374\n",
      "11.694731791146374\n"
     ]
    }
   ],
   "source": [
    "import pandas as pd\n",
    "df = pd.read_csv('imbd.csv')\n",
    "print(df.head())\n",
    "print(df.tail())\n",
    "print(df.info())\n",
    "print(df.describe())\n",
    "print(df.columns)\n",
    "print(df.index)\n",
    "print(df.shape)\n",
    "print(df.dtypes)\n",
    "\n",
    "\n",
    "\n"
   ]
  },
  {
   "cell_type": "code",
   "execution_count": null,
   "id": "490367bc-1666-499a-8471-bf50dbe23b13",
   "metadata": {},
   "outputs": [],
   "source": [
    "print(df.head())        # First 5 rows\n",
    "print(df.tail())        # Last 5 rows\n",
    "print(df.shape)         # (rows, columns)\n",
    "print(df.columns)       # Column names\n",
    "print(df.info())        # Summary\n",
    "print(df.describe())    # Stats summary\n"
   ]
  },
  {
   "cell_type": "code",
   "execution_count": null,
   "id": "b333111b-bfa9-4a89-8ed7-2138bea81126",
   "metadata": {},
   "outputs": [],
   "source": [
    "print(df['Name'])               # Single column\n",
    "print(df[['Name', 'Marks']])    # Multiple columns\n",
    "print(df.loc[0])                # Row by label\n",
    "print(df.iloc[1])               # Row by index\n"
   ]
  },
  {
   "cell_type": "code",
   "execution_count": null,
   "id": "4d79f13c-6ce2-48a1-bd41-85b25078fcbd",
   "metadata": {},
   "outputs": [],
   "source": [
    "print(df[df['Marks'] > 85])          # Filter by condition\n",
    "print(df[(df['Marks'] > 85) & (df['Age'] < 22)])\n"
   ]
  },
  {
   "cell_type": "code",
   "execution_count": null,
   "id": "2e46728b-eaae-4561-9777-c219cd69854a",
   "metadata": {},
   "outputs": [],
   "source": [
    "df['Grade'] = ['A', 'A+', 'B']\n",
    "df['Marks'] = df['Marks'] + 5  # Update column values\n"
   ]
  },
  {
   "cell_type": "code",
   "execution_count": null,
   "id": "0c51622e-42d4-48dc-b497-221bebd7cc58",
   "metadata": {},
   "outputs": [],
   "source": [
    "df.drop('Grade', axis=1, inplace=True)  # Drop column\n",
    "df.drop(1, axis=0, inplace=True)        # Drop row (index 1)\n"
   ]
  },
  {
   "cell_type": "code",
   "execution_count": null,
   "id": "a1005dbf-6e17-456f-a96f-eeebaddb613d",
   "metadata": {},
   "outputs": [],
   "source": [
    "print(df.sort_values(by='Marks', ascending=False))\n"
   ]
  },
  {
   "cell_type": "code",
   "execution_count": null,
   "id": "6a9290f9-b6e5-4075-a1a1-8e0a5f6f8c34",
   "metadata": {},
   "outputs": [],
   "source": [
    "df = pd.DataFrame({\n",
    "    'Name': ['A', 'B', None],\n",
    "    'Marks': [80, None, 75]\n",
    "})\n",
    "\n",
    "df.fillna('Unknown', inplace=True)\n",
    "df.dropna(inplace=True)\n"
   ]
  },
  {
   "cell_type": "code",
   "execution_count": null,
   "id": "2f4ecec4-1e7d-4bad-a37b-436071385603",
   "metadata": {},
   "outputs": [],
   "source": [
    "df = pd.DataFrame({\n",
    "    'Department': ['IT', 'IT', 'HR', 'HR'],\n",
    "    'Salary': [50000, 60000, 45000, 47000]\n",
    "})\n",
    "\n",
    "print(df.groupby('Department')['Salary'].mean())\n"
   ]
  },
  {
   "cell_type": "code",
   "execution_count": null,
   "id": "84af090f-0da8-4687-9869-32f6ed631d04",
   "metadata": {},
   "outputs": [],
   "source": [
    "df1 = pd.DataFrame({'ID': [1, 2], 'Name': ['A', 'B']})\n",
    "df2 = pd.DataFrame({'ID': [1, 2], 'Marks': [80, 90]})\n",
    "\n",
    "merged = pd.merge(df1, df2, on='ID')\n"
   ]
  },
  {
   "cell_type": "code",
   "execution_count": null,
   "id": "41dfad87-c48c-4e47-8683-db2ceb0e3bc3",
   "metadata": {},
   "outputs": [],
   "source": [
    "# Matplotlib.pyplot "
   ]
  },
  {
   "cell_type": "code",
   "execution_count": 3,
   "id": "6292bc58-180a-44c2-924a-002be6ec8599",
   "metadata": {},
   "outputs": [],
   "source": [
    "import matplotlib.pyplot as plt"
   ]
  },
  {
   "cell_type": "code",
   "execution_count": 8,
   "id": "5324e7c0-3880-49d8-9f07-d93a763396b1",
   "metadata": {},
   "outputs": [
    {
     "data": {
      "image/png": "[encoded data removed]",
      "text/plain": [
       "<Figure size 640x480 with 1 Axes>"
      ]
     },
     "metadata": {},
     "output_type": "display_data"
    }
   ],
   "source": [
    "x=[1,2,3,4,5]\n",
    "y=[10,20,30,40,50]\n",
    "plt.plot(x,y)\n",
    "plt.title(\"Basic Lite plot\")\n",
    "plt.xlabel(\"x-axis\")\n",
    "plt.ylabel(\"y-axis\")\n",
    "plt.show()"
   ]
  },
  {
   "cell_type": "code",
   "execution_count": 9,
   "id": "1d68e4a1",
   "metadata": {},
   "outputs": [
    {
     "data": {
      "image/png": "[encoded data removed]",
      "text/plain": [
       "<Figure size 640x480 with 1 Axes>"
      ]
     },
     "metadata": {},
     "output_type": "display_data"
    }
   ],
   "source": [
    "x=[1,2,3,4,5]\n",
    "y=[10,20,30,40,50]\n",
    "plt.bar(x,y)\n",
    "plt.title(\"Basic Lite plot\")\n",
    "plt.xlabel(\"x-axis\")\n",
    "plt.ylabel(\"y-axis\")\n",
    "plt.show()"
   ]
  },
  {
   "cell_type": "code",
   "execution_count": 10,
   "id": "01291ce1",
   "metadata": {},
   "outputs": [
    {
     "data": {
      "image/png": "[encoded data removed]",
      "text/plain": [
       "<Figure size 640x480 with 1 Axes>"
      ]
     },
     "metadata": {},
     "output_type": "display_data"
    }
   ],
   "source": [
    "x=[1,2,3,4,5]\n",
    "y=[10,20,30,40,50]\n",
    "plt.scatter(x,y)\n",
    "plt.title(\"Basic Lite plot\")\n",
    "plt.xlabel(\"x-axis\")\n",
    "plt.ylabel(\"y-axis\")\n",
    "plt.show()"
   ]
  },
  {
   "cell_type": "code",
   "execution_count": null,
   "id": "5a1cd416",
   "metadata": {},
   "outputs": [],
   "source": [
    "!pip install opencv-python\n",
    "\n",
    "import cv2\n",
    "import numpy as np\n",
    "import pandas as pd\n",
    "import matplotlib.pyplot as plt\n",
    "\n",
    "img = cv2.imread('image.jpg')\n",
    "plt.title('image')\n",
    "plt.imshow(img)\n",
    "plt.show()"
   ]
  },
  {
   "cell_type": "code",
   "execution_count": 15,
   "id": "7e579c08",
   "metadata": {},
   "outputs": [
    {
     "data": {
      "text/html": [
       "<div>\n",
       "<style scoped>\n",
       "    .dataframe tbody tr th:only-of-type {\n",
       "        vertical-align: middle;\n",
       "    }\n",
       "\n",
       "    .dataframe tbody tr th {\n",
       "        vertical-align: top;\n",
       "    }\n",
       "\n",
       "    .dataframe thead th {\n",
       "        text-align: right;\n",
       "    }\n",
       "</style>\n",
       "<table border=\"1\" class=\"dataframe\">\n",
       "  <thead>\n",
       "    <tr style=\"text-align: right;\">\n",
       "      <th></th>\n",
       "      <th>title</th>\n",
       "      <th>year</th>\n",
       "      <th>certificate</th>\n",
       "      <th>duration</th>\n",
       "      <th>genre</th>\n",
       "      <th>rating</th>\n",
       "      <th>description</th>\n",
       "      <th>stars</th>\n",
       "      <th>votes</th>\n",
       "    </tr>\n",
       "  </thead>\n",
       "  <tbody>\n",
       "    <tr>\n",
       "      <th>0</th>\n",
       "      <td>Cobra Kai</td>\n",
       "      <td>(2018– )</td>\n",
       "      <td>TV-14</td>\n",
       "      <td>30 min</td>\n",
       "      <td>Action, Comedy, Drama</td>\n",
       "      <td>8.5</td>\n",
       "      <td>Decades after their 1984 All Valley Karate Tou...</td>\n",
       "      <td>['Ralph Macchio, ', 'William Zabka, ', 'Courtn...</td>\n",
       "      <td>177,031</td>\n",
       "    </tr>\n",
       "    <tr>\n",
       "      <th>1</th>\n",
       "      <td>The Crown</td>\n",
       "      <td>(2016– )</td>\n",
       "      <td>TV-MA</td>\n",
       "      <td>58 min</td>\n",
       "      <td>Biography, Drama, History</td>\n",
       "      <td>8.7</td>\n",
       "      <td>Follows the political rivalries and romance of...</td>\n",
       "      <td>['Claire Foy, ', 'Olivia Colman, ', 'Imelda St...</td>\n",
       "      <td>199,885</td>\n",
       "    </tr>\n",
       "    <tr>\n",
       "      <th>2</th>\n",
       "      <td>Better Call Saul</td>\n",
       "      <td>(2015–2022)</td>\n",
       "      <td>TV-MA</td>\n",
       "      <td>46 min</td>\n",
       "      <td>Crime, Drama</td>\n",
       "      <td>8.9</td>\n",
       "      <td>The trials and tribulations of criminal lawyer...</td>\n",
       "      <td>['Bob Odenkirk, ', 'Rhea Seehorn, ', 'Jonathan...</td>\n",
       "      <td>501,384</td>\n",
       "    </tr>\n",
       "    <tr>\n",
       "      <th>3</th>\n",
       "      <td>Devil in Ohio</td>\n",
       "      <td>-2022</td>\n",
       "      <td>TV-MA</td>\n",
       "      <td>356 min</td>\n",
       "      <td>Drama, Horror, Mystery</td>\n",
       "      <td>5.9</td>\n",
       "      <td>When a psychiatrist shelters a mysterious cult...</td>\n",
       "      <td>['Emily Deschanel, ', 'Sam Jaeger, ', 'Gerardo...</td>\n",
       "      <td>9,773</td>\n",
       "    </tr>\n",
       "    <tr>\n",
       "      <th>4</th>\n",
       "      <td>Cyberpunk: Edgerunners</td>\n",
       "      <td>(2022– )</td>\n",
       "      <td>TV-MA</td>\n",
       "      <td>24 min</td>\n",
       "      <td>Animation, Action, Adventure</td>\n",
       "      <td>8.6</td>\n",
       "      <td>A Street Kid trying to survive in a technology...</td>\n",
       "      <td>['Zach Aguilar, ', 'Kenichiro Ohashi, ', 'Emi ...</td>\n",
       "      <td>15,413</td>\n",
       "    </tr>\n",
       "    <tr>\n",
       "      <th>...</th>\n",
       "      <td>...</td>\n",
       "      <td>...</td>\n",
       "      <td>...</td>\n",
       "      <td>...</td>\n",
       "      <td>...</td>\n",
       "      <td>...</td>\n",
       "      <td>...</td>\n",
       "      <td>...</td>\n",
       "      <td>...</td>\n",
       "    </tr>\n",
       "    <tr>\n",
       "      <th>9952</th>\n",
       "      <td>NaN</td>\n",
       "      <td>(2022– )</td>\n",
       "      <td>TV-MA</td>\n",
       "      <td>45 min</td>\n",
       "      <td>Action, Adventure, Drama</td>\n",
       "      <td>6.3</td>\n",
       "      <td>After an experimental gene therapy turns them ...</td>\n",
       "      <td>['Morgan Taylor Campbell, ', 'Italia Ricci, ',...</td>\n",
       "      <td>3,130</td>\n",
       "    </tr>\n",
       "    <tr>\n",
       "      <th>9953</th>\n",
       "      <td>NaN</td>\n",
       "      <td>(2010–2022)</td>\n",
       "      <td>TV-MA</td>\n",
       "      <td>44 min</td>\n",
       "      <td>Drama, Horror, Thriller</td>\n",
       "      <td>8.1</td>\n",
       "      <td>Sheriff Deputy Rick Grimes wakes up from a com...</td>\n",
       "      <td>['Andrew Lincoln, ', 'Norman Reedus, ', 'Melis...</td>\n",
       "      <td>970,067</td>\n",
       "    </tr>\n",
       "    <tr>\n",
       "      <th>9954</th>\n",
       "      <td>NaN</td>\n",
       "      <td>(2016– )</td>\n",
       "      <td>TV-MA</td>\n",
       "      <td>58 min</td>\n",
       "      <td>Biography, Drama, History</td>\n",
       "      <td>8.7</td>\n",
       "      <td>Follows the political rivalries and romance of...</td>\n",
       "      <td>['Claire Foy, ', 'Olivia Colman, ', 'Imelda St...</td>\n",
       "      <td>199,898</td>\n",
       "    </tr>\n",
       "    <tr>\n",
       "      <th>9955</th>\n",
       "      <td>NaN</td>\n",
       "      <td>(2005–2020)</td>\n",
       "      <td>TV-14</td>\n",
       "      <td>44 min</td>\n",
       "      <td>Drama, Fantasy, Horror</td>\n",
       "      <td>8.4</td>\n",
       "      <td>Two brothers follow their father's footsteps a...</td>\n",
       "      <td>['Jared Padalecki, ', 'Jensen Ackles, ', 'Jim ...</td>\n",
       "      <td>439,601</td>\n",
       "    </tr>\n",
       "    <tr>\n",
       "      <th>9956</th>\n",
       "      <td>NaN</td>\n",
       "      <td>-2022</td>\n",
       "      <td>TV-MA</td>\n",
       "      <td>356 min</td>\n",
       "      <td>Drama, Horror, Mystery</td>\n",
       "      <td>5.9</td>\n",
       "      <td>When a psychiatrist shelters a mysterious cult...</td>\n",
       "      <td>['Emily Deschanel, ', 'Sam Jaeger, ', 'Gerardo...</td>\n",
       "      <td>9,786</td>\n",
       "    </tr>\n",
       "  </tbody>\n",
       "</table>\n",
       "<p>9957 rows × 9 columns</p>\n",
       "</div>"
      ],
      "text/plain": [
       "                       title         year certificate duration  \\\n",
       "0                  Cobra Kai     (2018– )       TV-14   30 min   \n",
       "1                  The Crown     (2016– )       TV-MA   58 min   \n",
       "2           Better Call Saul  (2015–2022)       TV-MA   46 min   \n",
       "3              Devil in Ohio        -2022       TV-MA  356 min   \n",
       "4     Cyberpunk: Edgerunners     (2022– )       TV-MA   24 min   \n",
       "...                      ...          ...         ...      ...   \n",
       "9952                     NaN     (2022– )       TV-MA   45 min   \n",
       "9953                     NaN  (2010–2022)       TV-MA   44 min   \n",
       "9954                     NaN     (2016– )       TV-MA   58 min   \n",
       "9955                     NaN  (2005–2020)       TV-14   44 min   \n",
       "9956                     NaN        -2022       TV-MA  356 min   \n",
       "\n",
       "                             genre  rating  \\\n",
       "0            Action, Comedy, Drama     8.5   \n",
       "1        Biography, Drama, History     8.7   \n",
       "2                     Crime, Drama     8.9   \n",
       "3           Drama, Horror, Mystery     5.9   \n",
       "4     Animation, Action, Adventure     8.6   \n",
       "...                            ...     ...   \n",
       "9952      Action, Adventure, Drama     6.3   \n",
       "9953       Drama, Horror, Thriller     8.1   \n",
       "9954     Biography, Drama, History     8.7   \n",
       "9955        Drama, Fantasy, Horror     8.4   \n",
       "9956        Drama, Horror, Mystery     5.9   \n",
       "\n",
       "                                            description  \\\n",
       "0     Decades after their 1984 All Valley Karate Tou...   \n",
       "1     Follows the political rivalries and romance of...   \n",
       "2     The trials and tribulations of criminal lawyer...   \n",
       "3     When a psychiatrist shelters a mysterious cult...   \n",
       "4     A Street Kid trying to survive in a technology...   \n",
       "...                                                 ...   \n",
       "9952  After an experimental gene therapy turns them ...   \n",
       "9953  Sheriff Deputy Rick Grimes wakes up from a com...   \n",
       "9954  Follows the political rivalries and romance of...   \n",
       "9955  Two brothers follow their father's footsteps a...   \n",
       "9956  When a psychiatrist shelters a mysterious cult...   \n",
       "\n",
       "                                                  stars    votes  \n",
       "0     ['Ralph Macchio, ', 'William Zabka, ', 'Courtn...  177,031  \n",
       "1     ['Claire Foy, ', 'Olivia Colman, ', 'Imelda St...  199,885  \n",
       "2     ['Bob Odenkirk, ', 'Rhea Seehorn, ', 'Jonathan...  501,384  \n",
       "3     ['Emily Deschanel, ', 'Sam Jaeger, ', 'Gerardo...    9,773  \n",
       "4     ['Zach Aguilar, ', 'Kenichiro Ohashi, ', 'Emi ...   15,413  \n",
       "...                                                 ...      ...  \n",
       "9952  ['Morgan Taylor Campbell, ', 'Italia Ricci, ',...    3,130  \n",
       "9953  ['Andrew Lincoln, ', 'Norman Reedus, ', 'Melis...  970,067  \n",
       "9954  ['Claire Foy, ', 'Olivia Colman, ', 'Imelda St...  199,898  \n",
       "9955  ['Jared Padalecki, ', 'Jensen Ackles, ', 'Jim ...  439,601  \n",
       "9956  ['Emily Deschanel, ', 'Sam Jaeger, ', 'Gerardo...    9,786  \n",
       "\n",
       "[9957 rows x 9 columns]"
      ]
     },
     "execution_count": 15,
     "metadata": {},
     "output_type": "execute_result"
    }
   ],
   "source": [
    "df = pd.read_csv('imbd.csv')\n",
    "df"
   ]
  },
  {
   "cell_type": "code",
   "execution_count": null,
   "id": "9391ce90",
   "metadata": {},
   "outputs": [],
   "source": []
  },
  {
   "cell_type": "code",
   "execution_count": null,
   "id": "31141c13",
   "metadata": {},
   "outputs": [],
   "source": []
  }
 ],
 "metadata": {
  "kernelspec": {
   "display_name": "base",
   "language": "python",
   "name": "python3"
  },
  "language_info": {
   "codemirror_mode": {
    "name": "ipython",
    "version": 3
   },
   "file_extension": ".py",
   "mimetype": "text/x-python",
   "name": "python",
   "nbconvert_exporter": "python",
   "pygments_lexer": "ipython3",
   "version": "3.13.5"
  }
 },
 "nbformat": 4,
 "nbformat_minor": 5
}
