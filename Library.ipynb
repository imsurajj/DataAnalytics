{
 "cells": [
  {
   "cell_type": "code",
   "execution_count": null,
   "id": "9a02bffe-c84e-459c-9701-da0dd988bc1b",
   "metadata": {},
   "outputs": [],
   "source": [
    "# Library Management System"
   ]
  },
  {
   "cell_type": "code",
   "execution_count": 1,
   "id": "cae1a946-ee7f-4170-9084-aa8a961a036f",
   "metadata": {},
   "outputs": [
    {
     "name": "stdout",
     "output_type": "stream",
     "text": [
      "\n",
      "--- Library Menu is Here ---\n",
      "1. Add a Book\n",
      "2. Display all Books\n",
      "3. Issue a Book\n",
      "4. Return a Book\n",
      "5. Delete any Book\n",
      "6. Exit the library\n"
     ]
    },
    {
     "name": "stdin",
     "output_type": "stream",
     "text": [
      "Enter your choice:  6\n"
     ]
    },
    {
     "name": "stdout",
     "output_type": "stream",
     "text": [
      "Exiting...\n"
     ]
    }
   ],
   "source": [
    "import sqlite3\n",
    "\n",
    "conn = sqlite3.connect(\"library.db\")\n",
    "cursor = conn.cursor()\n",
    "\n",
    "cursor.execute(\"\"\"\n",
    "CREATE TABLE IF NOT EXISTS books (\n",
    "    id INTEGER PRIMARY KEY AUTOINCREMENT,\n",
    "    title TEXT NOT NULL,\n",
    "    author_name TEXT NOT NULL,\n",
    "    status TEXT NOT NULL DEFAULT 'Available'\n",
    ")\n",
    "\"\"\")\n",
    "conn.commit()\n",
    "\n",
    "def add_book(title, author_name):\n",
    "    cursor.execute(\"INSERT INTO books (title, author_name) VALUES (?, ?)\", (title, author_name))\n",
    "    conn.commit()\n",
    "    print(f\"Book '{title}' by {author_name} added.\")\n",
    "\n",
    "def display_books():\n",
    "    cursor.execute(\"SELECT * FROM books\")\n",
    "    books = cursor.fetchall()\n",
    "    print(\"\\n--- List of Library Books ---\")\n",
    "    for book in books:\n",
    "        print(f\"ID: {book[0]} | Title: {book[1]} | Author: {book[2]} | Status: {book[3]}\")\n",
    "    print(\"----------------------\")\n",
    "\n",
    "def issue_book(book_id):\n",
    "    cursor.execute(\"SELECT status FROM books WHERE id = ?\", (book_id,))\n",
    "    result = cursor.fetchone()\n",
    "    if result and result[0] == \"Available\":\n",
    "        cursor.execute(\"UPDATE books SET status = 'Issued' WHERE id = ?\", (book_id,))\n",
    "        conn.commit()\n",
    "        print(\"Book issued successfully.\")\n",
    "    else:\n",
    "        print(\"Book not available or invalid ID.\")\n",
    "\n",
    "def return_book(book_id):\n",
    "    cursor.execute(\"SELECT status FROM books WHERE id = ?\", (book_id,))\n",
    "    result = cursor.fetchone()\n",
    "    if result and result[0] == \"Issued\":\n",
    "        cursor.execute(\"UPDATE books SET status = 'Available' WHERE id = ?\", (book_id,))\n",
    "        conn.commit()\n",
    "        print(\"Book returned successfully.\")\n",
    "    else:\n",
    "        print(\"Book not issued or invalid ID.\")\n",
    "\n",
    "def delete_book(book_id):\n",
    "    cursor.execute(\"DELETE FROM books WHERE id = ?\", (book_id,))\n",
    "    conn.commit()\n",
    "    print(\"Book deleted.\")\n",
    "\n",
    "def librarymenu():\n",
    "    while True:\n",
    "        print(\"\\n--- Library Menu is Here ---\")\n",
    "        print(\"1. Add a Book\")\n",
    "        print(\"2. Display all Books\")\n",
    "        print(\"3. Issue a Book\")\n",
    "        print(\"4. Return a Book\")\n",
    "        print(\"5. Delete any Book\")\n",
    "        print(\"6. Exit the library\")\n",
    "        \n",
    "        choice = input(\"Enter your choice: \")\n",
    "        \n",
    "        if choice == '1':\n",
    "            title = input(\"Enter book title: \")\n",
    "            author_name = input(\"Enter author name: \")\n",
    "            add_book(title, author_name)\n",
    "        elif choice == '2':\n",
    "            display_books()\n",
    "        elif choice == '3':\n",
    "            book_id = int(input(\"Enter book ID to issue: \"))\n",
    "            issue_book(book_id)\n",
    "        elif choice == '4':\n",
    "            book_id = int(input(\"Enter book ID to return: \"))\n",
    "            return_book(book_id)\n",
    "        elif choice == '5':\n",
    "            book_id = int(input(\"Enter book ID to delete: \"))\n",
    "            delete_book(book_id)\n",
    "        elif choice == '6':\n",
    "            print(\"Exiting...\")\n",
    "            break\n",
    "        else:\n",
    "            print(\"Invalid choice. Try again.\")\n",
    "\n",
    "librarymenu()\n",
    "\n",
    "conn.close()"
   ]
  },
  {
   "cell_type": "code",
   "execution_count": null,
   "id": "98069f9e-c79e-44f9-a26e-9d1dd2ba7a89",
   "metadata": {},
   "outputs": [],
   "source": []
  }
 ],
 "metadata": {
  "kernelspec": {
   "display_name": "Python [conda env:base] *",
   "language": "python",
   "name": "conda-base-py"
  },
  "language_info": {
   "codemirror_mode": {
    "name": "ipython",
    "version": 3
   },
   "file_extension": ".py",
   "mimetype": "text/x-python",
   "name": "python",
   "nbconvert_exporter": "python",
   "pygments_lexer": "ipython3",
   "version": "3.13.5"
  }
 },
 "nbformat": 4,
 "nbformat_minor": 5
}
