{
 "cells": [
  {
   "cell_type": "code",
   "execution_count": 3,
   "id": "16d719cd-6683-4e93-885f-09093db4ed1b",
   "metadata": {},
   "outputs": [
    {
     "name": "stdout",
     "output_type": "stream",
     "text": [
      "<class 'str'>\n"
     ]
    }
   ],
   "source": [
    "a=1\n",
    "b=str(a)\n",
    "print(type(b))"
   ]
  },
  {
   "cell_type": "code",
   "execution_count": null,
   "id": "af39004e-8cf4-4415-b69a-715c7a6f789d",
   "metadata": {},
   "outputs": [],
   "source": [
    "#arthematic operators"
   ]
  },
  {
   "cell_type": "code",
   "execution_count": 4,
   "id": "da0997e5-703f-46b8-a4da-09d8c21e926b",
   "metadata": {},
   "outputs": [
    {
     "name": "stdout",
     "output_type": "stream",
     "text": [
      "7\n"
     ]
    }
   ],
   "source": [
    "a=3\n",
    "b=4\n",
    "c=a+b\n",
    "print(c)"
   ]
  },
  {
   "cell_type": "code",
   "execution_count": 13,
   "id": "764b2a14-4729-4838-a4ed-d8eba03bfdbe",
   "metadata": {},
   "outputs": [
    {
     "name": "stdin",
     "output_type": "stream",
     "text": [
      "enter your no. 2\n",
      "enter your no. 2\n"
     ]
    },
    {
     "name": "stdout",
     "output_type": "stream",
     "text": [
      "4\n"
     ]
    }
   ],
   "source": [
    "a=int(input(\"enter your no.\"))\n",
    "b=int(input(\"enter your no.\"))\n",
    "c=a+b \n",
    "print(c)"
   ]
  },
  {
   "cell_type": "code",
   "execution_count": null,
   "id": "4b891a01-bb2e-4951-93cc-e0c5060babeb",
   "metadata": {},
   "outputs": [],
   "source": [
    "#comparison operator "
   ]
  },
  {
   "cell_type": "code",
   "execution_count": null,
   "id": "2df9e20e-5bd1-4a26-8868-0564c0f9dc47",
   "metadata": {},
   "outputs": [],
   "source": [
    "<,>,<=,<=,!="
   ]
  },
  {
   "cell_type": "code",
   "execution_count": 14,
   "id": "cd493774-f629-44e7-b38b-fc35e74f8c09",
   "metadata": {},
   "outputs": [
    {
     "name": "stdout",
     "output_type": "stream",
     "text": [
      "False\n"
     ]
    }
   ],
   "source": [
    "a=12\n",
    "b=15\n",
    "print(a>b)\n"
   ]
  },
  {
   "cell_type": "code",
   "execution_count": 16,
   "id": "259bcaf6-387c-4e79-b1be-06d99ba7bb21",
   "metadata": {},
   "outputs": [
    {
     "name": "stdout",
     "output_type": "stream",
     "text": [
      "False\n"
     ]
    }
   ],
   "source": [
    "a=12\n",
    "b=15\n",
    "print(a==b)\n"
   ]
  },
  {
   "cell_type": "code",
   "execution_count": 24,
   "id": "be307c7d-72e9-41fe-a7c5-120adc909984",
   "metadata": {},
   "outputs": [
    {
     "name": "stdin",
     "output_type": "stream",
     "text": [
      "enter your no. 20\n",
      "enter your no. 30\n",
      "enter your no. 40\n"
     ]
    },
    {
     "name": "stdout",
     "output_type": "stream",
     "text": [
      "false\n",
      "true \n"
     ]
    }
   ],
   "source": [
    "x=int(input(\"enter your no.\"))\n",
    "y=int(input(\"enter your no.\"))\n",
    "z= int(input(\"enter your no.\"))\n",
    "  \n",
    "sum = x+y+z\n",
    "\n",
    "average= sum/3\n",
    "if(average >50):\n",
    "    print(\"true\" )\n",
    "else:\n",
    "    print(\"false\")\n",
    "if(sum%5==0):\n",
    "    print(\"true \")\n",
    "else :\n",
    "    print(\"false\") "
   ]
  },
  {
   "cell_type": "code",
   "execution_count": 5,
   "id": "befa6776-68ac-44f5-a581-8b18f229d824",
   "metadata": {},
   "outputs": [
    {
     "name": "stdout",
     "output_type": "stream",
     "text": [
      "0.75\n"
     ]
    }
   ],
   "source": [
    "a=3\n",
    "b=4\n",
    "c=a/b\n",
    "print(c)"
   ]
  },
  {
   "cell_type": "code",
   "execution_count": 6,
   "id": "ad662899-473a-4e1a-a672-ec9ceac7e22a",
   "metadata": {},
   "outputs": [
    {
     "name": "stdout",
     "output_type": "stream",
     "text": [
      "0\n"
     ]
    }
   ],
   "source": [
    "a=3\n",
    "b=4\n",
    "c=a//b\n",
    "a=print(c)"
   ]
  },
  {
   "cell_type": "code",
   "execution_count": 8,
   "id": "aff4ea01-71bb-4e48-8b7a-96963ef03ea4",
   "metadata": {},
   "outputs": [
    {
     "name": "stdout",
     "output_type": "stream",
     "text": [
      "12\n"
     ]
    }
   ],
   "source": [
    "a=3\n",
    "b=4\n",
    "c=a*b\n",
    "a=print(c)"
   ]
  },
  {
   "cell_type": "code",
   "execution_count": 9,
   "id": "86115ee6-5743-4508-817f-5722fc82850a",
   "metadata": {},
   "outputs": [
    {
     "name": "stdout",
     "output_type": "stream",
     "text": [
      "-1\n"
     ]
    }
   ],
   "source": [
    "a=3\n",
    "b=4\n",
    "c=a-b\n",
    "a=print(c)"
   ]
  },
  {
   "cell_type": "code",
   "execution_count": 10,
   "id": "ee46d35a-fede-4491-9e9f-65b4481d384d",
   "metadata": {},
   "outputs": [
    {
     "name": "stdout",
     "output_type": "stream",
     "text": [
      "81\n"
     ]
    }
   ],
   "source": [
    "a=3\n",
    "b=4\n",
    "c=a**b\n",
    "a=print(c)"
   ]
  },
  {
   "cell_type": "code",
   "execution_count": 1,
   "id": "70ddd1e0-6652-4413-b4f4-208ee6b53ad2",
   "metadata": {},
   "outputs": [
    {
     "name": "stdout",
     "output_type": "stream",
     "text": [
      "False\n"
     ]
    }
   ],
   "source": [
    "a=4\n",
    "b=3\n",
    "print(a>b and a==b)"
   ]
  },
  {
   "cell_type": "code",
   "execution_count": 4,
   "id": "9d5e6f34-ec98-4d40-b5ae-7ef5ffd2a160",
   "metadata": {},
   "outputs": [
    {
     "name": "stdout",
     "output_type": "stream",
     "text": [
      "True\n"
     ]
    }
   ],
   "source": [
    "a=4\n",
    "b=3\n",
    "print(a>b or a==b)"
   ]
  },
  {
   "cell_type": "code",
   "execution_count": 12,
   "id": "7a52d26d-eb05-431e-becd-2eebd8062f6e",
   "metadata": {},
   "outputs": [
    {
     "name": "stdout",
     "output_type": "stream",
     "text": [
      "False True\n"
     ]
    }
   ],
   "source": [
    "a=4\n",
    "b=3\n",
    "print(not (a>b), not (a==b))"
   ]
  },
  {
   "cell_type": "code",
   "execution_count": 14,
   "id": "cfeea5c8-8725-4497-a69b-2d303b7c26bd",
   "metadata": {},
   "outputs": [
    {
     "name": "stdout",
     "output_type": "stream",
     "text": [
      "2\n",
      "3\n",
      "4\n",
      "5\n"
     ]
    }
   ],
   "source": [
    "a=[2,3,4,5]\n",
    "for x in a:\n",
    "    print(x)"
   ]
  },
  {
   "cell_type": "code",
   "execution_count": 20,
   "id": "77d62f02-d53c-497e-aecc-8898c198bc15",
   "metadata": {},
   "outputs": [
    {
     "name": "stdout",
     "output_type": "stream",
     "text": [
      "False\n"
     ]
    }
   ],
   "source": [
    "a=\"python is imp\"\n",
    "print(\"is\" not in a)"
   ]
  },
  {
   "cell_type": "code",
   "execution_count": 32,
   "id": "1251144d-873a-452d-9257-656a7efa63c1",
   "metadata": {},
   "outputs": [
    {
     "name": "stdin",
     "output_type": "stream",
     "text": [
      "Enter number 1 :  4\n",
      "Enter number 2 :  5\n"
     ]
    },
    {
     "name": "stdout",
     "output_type": "stream",
     "text": [
      "9\n",
      "20\n",
      "Not equal\n",
      "Num1 is smaller\n",
      "False\n",
      "True\n"
     ]
    }
   ],
   "source": [
    "num1=int(input(\"Enter number 1 : \"))\n",
    "num2=int(input(\"Enter number 2 : \"))\n",
    "d=[10,20,30,40,50]\n",
    "a=num1+num2\n",
    "b=num1*num2\n",
    "\n",
    "print(a)\n",
    "print(b)\n",
    "\n",
    "if(num1==num2):\n",
    "    print(\"It is equal\")\n",
    "else:\n",
    "    print(\"Not equal\")\n",
    "\n",
    "if(num1>num2):\n",
    "    print(\"Num1 is equal\")\n",
    "else:\n",
    "    print(\"Num1 is smaller\")\n",
    "    print(a in d)\n",
    "    print(b in d)\n"
   ]
  },
  {
   "cell_type": "code",
   "execution_count": 40,
   "id": "9ba83e06-f982-4041-8231-dbbf4541e0a6",
   "metadata": {},
   "outputs": [
    {
     "name": "stdin",
     "output_type": "stream",
     "text": [
      "Enter number 1 :  4\n",
      "Enter number 2 :  5\n"
     ]
    },
    {
     "name": "stdout",
     "output_type": "stream",
     "text": [
      "9\n",
      "20\n",
      "Not equal\n",
      "Num1 is smaller\n",
      "False\n",
      "True\n",
      "False\n",
      "True\n"
     ]
    }
   ],
   "source": [
    "num1=int(input(\"Enter number 1 : \"))\n",
    "num2=int(input(\"Enter number 2 : \"))\n",
    "d=[10,20,30,40,50]\n",
    "a=num1+num2\n",
    "b=num1*num2\n",
    "\n",
    "print(a)\n",
    "print(b)\n",
    "\n",
    "if(num1 is num2):\n",
    "    print(\"It is equal\")\n",
    "else:\n",
    "    print(\"Not equal\")\n",
    "\n",
    "if(num1>num2):\n",
    "    print(\"Num1 is equal\")\n",
    "else:\n",
    "    print(\"Num1 is smaller\")\n",
    "    print(a in d)\n",
    "    print(b in d)\n",
    "\n",
    "print(a is d)\n",
    "print(b in d)"
   ]
  },
  {
   "cell_type": "code",
   "execution_count": null,
   "id": "a23eed5b-e854-4062-8602-e221aae88bb0",
   "metadata": {},
   "outputs": [],
   "source": []
  }
 ],
 "metadata": {
  "kernelspec": {
   "display_name": "Python [conda env:base] *",
   "language": "python",
   "name": "conda-base-py"
  },
  "language_info": {
   "codemirror_mode": {
    "name": "ipython",
    "version": 3
   },
   "file_extension": ".py",
   "mimetype": "text/x-python",
   "name": "python",
   "nbconvert_exporter": "python",
   "pygments_lexer": "ipython3",
   "version": "3.13.5"
  }
 },
 "nbformat": 4,
 "nbformat_minor": 5
}
