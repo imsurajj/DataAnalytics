{
 "cells": [
  {
   "cell_type": "code",
   "execution_count": null,
   "id": "afa43483-8fc1-4677-94e3-8b9652974413",
   "metadata": {},
   "outputs": [],
   "source": [
    "#Functions\n",
    "# --------------------\n",
    "# dev div(parameters & arguments )\n",
    "#div()\n",
    "#----------------------"
   ]
  },
  {
   "cell_type": "code",
   "execution_count": 4,
   "id": "d5e667c2-e9a4-4ac9-8999-4c8ca838c80a",
   "metadata": {},
   "outputs": [
    {
     "name": "stdout",
     "output_type": "stream",
     "text": [
      "Suraj is 21 year old\n"
     ]
    }
   ],
   "source": [
    "# Keyword arguments\n",
    "def student(name,age):\n",
    "    print(name, \"is\", age, \"year old\")\n",
    "\n",
    "student(age=21, name=\"Suraj\")"
   ]
  },
  {
   "cell_type": "code",
   "execution_count": 39,
   "id": "53f84c95-94e2-424a-a343-2adff5948983",
   "metadata": {},
   "outputs": [
    {
     "name": "stdout",
     "output_type": "stream",
     "text": [
      "All marks:  (80, 40, 30, 30)\n"
     ]
    },
    {
     "ename": "TypeError",
     "evalue": "sum() missing 1 required positional argument: 'b'",
     "output_type": "error",
     "traceback": [
      "\u001b[1;31m---------------------------------------------------------------------------\u001b[0m",
      "\u001b[1;31mTypeError\u001b[0m                                 Traceback (most recent call last)",
      "Cell \u001b[1;32mIn[39], line 6\u001b[0m\n\u001b[0;32m      3\u001b[0m     \u001b[38;5;28mprint\u001b[39m(\u001b[38;5;124m\"\u001b[39m\u001b[38;5;124mAll marks: \u001b[39m\u001b[38;5;124m\"\u001b[39m, marks)\n\u001b[0;32m      4\u001b[0m     \u001b[38;5;28mprint\u001b[39m(\u001b[38;5;124m\"\u001b[39m\u001b[38;5;124mTotal: \u001b[39m\u001b[38;5;124m\"\u001b[39m, \u001b[38;5;28msum\u001b[39m(marks))\n\u001b[1;32m----> 6\u001b[0m total_marks(\u001b[38;5;241m80\u001b[39m, \u001b[38;5;241m40\u001b[39m, \u001b[38;5;241m30\u001b[39m, \u001b[38;5;241m30\u001b[39m)\n",
      "Cell \u001b[1;32mIn[39], line 4\u001b[0m, in \u001b[0;36mtotal_marks\u001b[1;34m(*marks)\u001b[0m\n\u001b[0;32m      2\u001b[0m \u001b[38;5;28;01mdef\u001b[39;00m\u001b[38;5;250m \u001b[39m\u001b[38;5;21mtotal_marks\u001b[39m(\u001b[38;5;241m*\u001b[39mmarks):\n\u001b[0;32m      3\u001b[0m     \u001b[38;5;28mprint\u001b[39m(\u001b[38;5;124m\"\u001b[39m\u001b[38;5;124mAll marks: \u001b[39m\u001b[38;5;124m\"\u001b[39m, marks)\n\u001b[1;32m----> 4\u001b[0m     \u001b[38;5;28mprint\u001b[39m(\u001b[38;5;124m\"\u001b[39m\u001b[38;5;124mTotal: \u001b[39m\u001b[38;5;124m\"\u001b[39m, \u001b[38;5;28msum\u001b[39m(marks))\n",
      "\u001b[1;31mTypeError\u001b[0m: sum() missing 1 required positional argument: 'b'"
     ]
    }
   ],
   "source": [
    "# Variable Length Argument multi positional\n",
    "def total_marks(*marks):\n",
    "    print(\"All marks: \", marks)\n",
    "    print(\"Total: \", sum(marks))\n",
    "\n",
    "total_marks(80, 40, 30, 30)"
   ]
  },
  {
   "cell_type": "code",
   "execution_count": 38,
   "id": "9fd4b7e3-5630-41ea-9519-cfa9387c746b",
   "metadata": {},
   "outputs": [
    {
     "name": "stdout",
     "output_type": "stream",
     "text": [
      "Hello suraj\n",
      "Hello Divyank\n"
     ]
    }
   ],
   "source": [
    "#Default Argument\n",
    "def greet(name=\"suraj\"):\n",
    "    print(\"Hello\",name)\n",
    "greet()\n",
    "greet(\"Divyank\")"
   ]
  },
  {
   "cell_type": "code",
   "execution_count": null,
   "id": "0a142859-60b8-4f8c-a34b-c1cd5bc59630",
   "metadata": {},
   "outputs": [],
   "source": []
  },
  {
   "cell_type": "code",
   "execution_count": 42,
   "id": "9cb8af6b-5257-4d92-a448-286a7808051e",
   "metadata": {},
   "outputs": [
    {
     "name": "stdout",
     "output_type": "stream",
     "text": [
      "9\n"
     ]
    }
   ],
   "source": [
    "# a=5\n",
    "# b=3\n",
    "def sum(a,b):\n",
    "   print(a+b)\n",
    "sum(4,5)"
   ]
  },
  {
   "cell_type": "code",
   "execution_count": 1,
   "id": "ac69e739-3b75-49c5-85a4-27ec7277ad83",
   "metadata": {},
   "outputs": [
    {
     "name": "stdout",
     "output_type": "stream",
     "text": [
      "2\n",
      "4\n",
      "6\n",
      "8\n",
      "10\n",
      "12\n",
      "14\n",
      "16\n",
      "18\n",
      "20\n",
      "22\n",
      "24\n",
      "26\n",
      "28\n",
      "30\n",
      "32\n",
      "34\n",
      "36\n",
      "38\n",
      "40\n",
      "42\n",
      "44\n",
      "46\n",
      "48\n"
     ]
    }
   ],
   "source": [
    "def even():\n",
    "    for i in range(2,50,2):\n",
    "        print(i)\n",
    "even()"
   ]
  },
  {
   "cell_type": "code",
   "execution_count": 27,
   "id": "b9140177-5595-4c22-bb29-ab730ce40755",
   "metadata": {},
   "outputs": [],
   "source": [
    "def even():\n",
    "    for i in range(2,15,2):\n",
    "        if i%2==0:\n",
    "            print(i)\n",
    "even()"
   ]
  },
  {
   "cell_type": "code",
   "execution_count": 114,
   "id": "a8d7ee1a-6c29-4436-b073-5120b3834573",
   "metadata": {},
   "outputs": [
    {
     "name": "stdout",
     "output_type": "stream",
     "text": [
      "16\n"
     ]
    }
   ],
   "source": [
    "def sqr(a):\n",
    "    print(a*a)\n",
    "sqr(4)\n",
    "    "
   ]
  },
  {
   "cell_type": "code",
   "execution_count": 47,
   "id": "edce51f7-2b24-4ca0-8215-c445f81813b9",
   "metadata": {},
   "outputs": [
    {
     "name": "stdout",
     "output_type": "stream",
     "text": [
      "odd number\n"
     ]
    }
   ],
   "source": [
    "def even(a):\n",
    "    if a%2==0:\n",
    "        print(\"Even Number\")\n",
    "    else:\n",
    "        print(\"odd number\")\n",
    "even(9)\n",
    "    "
   ]
  },
  {
   "cell_type": "code",
   "execution_count": 53,
   "id": "63091589-ea34-44d4-bcb3-a411e5f8324b",
   "metadata": {},
   "outputs": [
    {
     "name": "stdout",
     "output_type": "stream",
     "text": [
      "3 is the greatest\n"
     ]
    }
   ],
   "source": [
    "def large(a,b,c):\n",
    "   if a > b and a > c:\n",
    "    print(a, \"is the greatest\")\n",
    "   elif b > c:\n",
    "    print(b, \"is the greatest\")\n",
    "   else:\n",
    "    print(c, \"is the greatest\")\n",
    "large(1,2,3)"
   ]
  },
  {
   "cell_type": "code",
   "execution_count": 61,
   "id": "d9952988-65a7-464b-946c-4dea83117599",
   "metadata": {},
   "outputs": [
    {
     "data": {
      "text/plain": [
       "120"
      ]
     },
     "execution_count": 61,
     "metadata": {},
     "output_type": "execute_result"
    }
   ],
   "source": [
    "def factorial(a):\n",
    "    if a==0 or a==1:\n",
    "        return 1\n",
    "    return a*factorial(a-1)\n",
    "factorial(5)"
   ]
  },
  {
   "cell_type": "code",
   "execution_count": 120,
   "id": "968122e5-c8ea-4727-9fe8-3aad651a7c70",
   "metadata": {},
   "outputs": [
    {
     "name": "stdout",
     "output_type": "stream",
     "text": [
      "olleh\n"
     ]
    }
   ],
   "source": [
    "def reverse_string(s):\n",
    "    reversed_str = \"\"\n",
    "    for char in s:\n",
    "        reversed_str = char + reversed_str\n",
    "    return reversed_str\n",
    "print(reverse_string(\"hello\"))"
   ]
  },
  {
   "cell_type": "code",
   "execution_count": 88,
   "id": "6d72e05f-e136-4f02-af31-6507f6ea0233",
   "metadata": {},
   "outputs": [
    {
     "name": "stdout",
     "output_type": "stream",
     "text": [
      "jarus"
     ]
    }
   ],
   "source": [
    "def rev(s):\n",
    "    for i in range(len(s)-1,-1,-1):\n",
    "        print(s[i], end=\"\")\n",
    "rev(\"suraj\")"
   ]
  },
  {
   "cell_type": "code",
   "execution_count": 98,
   "id": "c48025c6-a50d-4385-a659-e16aab72c13a",
   "metadata": {},
   "outputs": [
    {
     "ename": "TypeError",
     "evalue": "'list' object is not callable",
     "output_type": "error",
     "traceback": [
      "\u001b[1;31m---------------------------------------------------------------------------\u001b[0m",
      "\u001b[1;31mTypeError\u001b[0m                                 Traceback (most recent call last)",
      "Cell \u001b[1;32mIn[98], line 9\u001b[0m\n\u001b[0;32m      6\u001b[0m         a, b \u001b[38;5;241m=\u001b[39m b, a \u001b[38;5;241m+\u001b[39m b\n\u001b[0;32m      7\u001b[0m     \u001b[38;5;28;01mreturn\u001b[39;00m fib_series\n\u001b[1;32m----> 9\u001b[0m \u001b[38;5;28mprint\u001b[39m(fibonacci(\u001b[38;5;241m10\u001b[39m))\n",
      "Cell \u001b[1;32mIn[98], line 5\u001b[0m, in \u001b[0;36mfibonacci\u001b[1;34m(n)\u001b[0m\n\u001b[0;32m      3\u001b[0m fib_series \u001b[38;5;241m=\u001b[39m []\n\u001b[0;32m      4\u001b[0m \u001b[38;5;28;01mfor\u001b[39;00m _ \u001b[38;5;129;01min\u001b[39;00m \u001b[38;5;28mrange\u001b[39m(n):\n\u001b[1;32m----> 5\u001b[0m     fib_series(a)\n\u001b[0;32m      6\u001b[0m     a, b \u001b[38;5;241m=\u001b[39m b, a \u001b[38;5;241m+\u001b[39m b\n\u001b[0;32m      7\u001b[0m \u001b[38;5;28;01mreturn\u001b[39;00m fib_series\n",
      "\u001b[1;31mTypeError\u001b[0m: 'list' object is not callable"
     ]
    }
   ],
   "source": [
    "def fibonacci(n):\n",
    "    a, b = 0, 1\n",
    "    fib_series = []\n",
    "    for _ in range(n):\n",
    "        fib_series(a)\n",
    "        a, b = b, a + b\n",
    "    return fib_series\n",
    "\n",
    "print(fibonacci(10))\n"
   ]
  },
  {
   "cell_type": "code",
   "execution_count": 95,
   "id": "d43be4ab-ad2c-4565-b339-8d4e04810b4a",
   "metadata": {},
   "outputs": [
    {
     "name": "stdout",
     "output_type": "stream",
     "text": [
      "4\n"
     ]
    }
   ],
   "source": [
    "def count_vowels(s):\n",
    "    vowels = \"aeiouAEIOU\"\n",
    "    count = 0\n",
    "    for char in s:\n",
    "        if char in vowels:\n",
    "            count += 1\n",
    "    return count\n",
    "\n",
    "print(count_vowels(\"Data Analyst\"))"
   ]
  },
  {
   "cell_type": "code",
   "execution_count": 5,
   "id": "8e4fe25b-0f4e-4cf4-a956-889899813f18",
   "metadata": {},
   "outputs": [
    {
     "name": "stdout",
     "output_type": "stream",
     "text": [
      "Palindrome\n"
     ]
    }
   ],
   "source": [
    "def palindrome(s):\n",
    "    reversed_str = \"\"\n",
    "    for char in s:\n",
    "        reversed_str = char + reversed_str\n",
    "    if s == reversed_str:\n",
    "        print(\"Palindrome\")\n",
    "    else:\n",
    "        print(\"Not Palindrome\")\n",
    "\n",
    "palindrome(\"madam\")\n"
   ]
  },
  {
   "cell_type": "code",
   "execution_count": 102,
   "id": "a567dded-1805-4360-b7bb-a4e65fe6f150",
   "metadata": {},
   "outputs": [
    {
     "ename": "TypeError",
     "evalue": "sum() missing 1 required positional argument: 'b'",
     "output_type": "error",
     "traceback": [
      "\u001b[1;31m---------------------------------------------------------------------------\u001b[0m",
      "\u001b[1;31mTypeError\u001b[0m                                 Traceback (most recent call last)",
      "Cell \u001b[1;32mIn[102], line 4\u001b[0m\n\u001b[0;32m      1\u001b[0m \u001b[38;5;28;01mdef\u001b[39;00m\u001b[38;5;250m \u001b[39m\u001b[38;5;21madd_all\u001b[39m(\u001b[38;5;241m*\u001b[39margs):\n\u001b[0;32m      2\u001b[0m     \u001b[38;5;28;01mreturn\u001b[39;00m \u001b[38;5;28msum\u001b[39m(args)\n\u001b[1;32m----> 4\u001b[0m \u001b[38;5;28mprint\u001b[39m(add_all(\u001b[38;5;241m1\u001b[39m, \u001b[38;5;241m2\u001b[39m, \u001b[38;5;241m3\u001b[39m))        \u001b[38;5;66;03m# Output: 6\u001b[39;00m\n\u001b[0;32m      5\u001b[0m \u001b[38;5;28mprint\u001b[39m(add_all(\u001b[38;5;241m10\u001b[39m, \u001b[38;5;241m20\u001b[39m, \u001b[38;5;241m30\u001b[39m, \u001b[38;5;241m40\u001b[39m))\n",
      "Cell \u001b[1;32mIn[102], line 2\u001b[0m, in \u001b[0;36madd_all\u001b[1;34m(*args)\u001b[0m\n\u001b[0;32m      1\u001b[0m \u001b[38;5;28;01mdef\u001b[39;00m\u001b[38;5;250m \u001b[39m\u001b[38;5;21madd_all\u001b[39m(\u001b[38;5;241m*\u001b[39margs):\n\u001b[1;32m----> 2\u001b[0m     \u001b[38;5;28;01mreturn\u001b[39;00m \u001b[38;5;28msum\u001b[39m(args)\n",
      "\u001b[1;31mTypeError\u001b[0m: sum() missing 1 required positional argument: 'b'"
     ]
    }
   ],
   "source": [
    "def add_all(*args):\n",
    "    return sum(args)\n",
    "\n"
   ]
  },
  {
   "cell_type": "code",
   "execution_count": 133,
   "id": "b628aec4-ace9-4fd5-a76a-569585c72382",
   "metadata": {},
   "outputs": [
    {
     "name": "stdout",
     "output_type": "stream",
     "text": [
      "0 1 1 2 3 5 8 13 21 34 "
     ]
    }
   ],
   "source": [
    "def fibonacci(n):\n",
    "    a = 0\n",
    "    b = 1\n",
    "    for i in range(n):\n",
    "        print(a, end=\" \")\n",
    "        c = a + b\n",
    "        a = b\n",
    "        b = c\n",
    "\n",
    "fibonacci(10)\n"
   ]
  },
  {
   "cell_type": "code",
   "execution_count": 111,
   "id": "2ab9626e-fa37-4f96-9fe6-ec93f2f7a79c",
   "metadata": {},
   "outputs": [
    {
     "name": "stdout",
     "output_type": "stream",
     "text": [
      "12\n"
     ]
    }
   ],
   "source": [
    "def Totalmarks(*args):\n",
    "    total = 0\n",
    "    for i in args:\n",
    "        total += i\n",
    "    print(total)\n",
    "\n",
    "Totalmarks(1, 2, 3, 6)\n"
   ]
  },
  {
   "cell_type": "code",
   "execution_count": 118,
   "id": "a11b9b99-6abe-4be9-b0e3-6d2fe26bde05",
   "metadata": {},
   "outputs": [
    {
     "name": "stdout",
     "output_type": "stream",
     "text": [
      "90\n"
     ]
    }
   ],
   "source": [
    "def Maxnumber(lst):\n",
    "    m = lst[0]\n",
    "    for n in lst:\n",
    "        if n > m:\n",
    "            m = n\n",
    "    print(m)\n",
    "\n",
    "Maxnumber([3, 7, 2, 9, 90, 5])\n"
   ]
  },
  {
   "cell_type": "code",
   "execution_count": 132,
   "id": "ae791169-5c89-4dab-9387-c0dffaa8c2bd",
   "metadata": {},
   "outputs": [
    {
     "data": {
      "text/plain": [
       "50"
      ]
     },
     "execution_count": 132,
     "metadata": {},
     "output_type": "execute_result"
    }
   ],
   "source": [
    "def largest(lst):\n",
    "    return max(lst)\n",
    "\n",
    "largest([20,30,50,40,33])"
   ]
  },
  {
   "cell_type": "code",
   "execution_count": 146,
   "id": "99cd3540-b298-4856-85bf-508a0bdcc607",
   "metadata": {},
   "outputs": [
    {
     "name": "stdout",
     "output_type": "stream",
     "text": [
      "<class 'list'>\n",
      "<class 'tuple'>\n"
     ]
    }
   ],
   "source": [
    "a=[1,4.5]\n",
    "b=(1,4.5)\n",
    "print(type(a))\n",
    "print(type(b))"
   ]
  },
  {
   "cell_type": "code",
   "execution_count": 149,
   "id": "48e3e9af-88b6-403e-b25a-cfca22f052e5",
   "metadata": {},
   "outputs": [],
   "source": [
    "#Characterstics of LIST\n",
    "# Mutable\n",
    "# Order\n",
    "# collection of data type\n",
    "# duplicate value"
   ]
  },
  {
   "cell_type": "code",
   "execution_count": null,
   "id": "693e3d20-ef1f-4750-ba5a-ec896fdc42cb",
   "metadata": {},
   "outputs": [],
   "source": [
    "append() a.append(100)  # add items at end\n",
    "insert() a.insert(1,30) # insert at index "
   ]
  },
  {
   "cell_type": "code",
   "execution_count": null,
   "id": "45bb3665-4ac6-4bac-be0a-0840d5f66b4e",
   "metadata": {},
   "outputs": [],
   "source": [
    "# Method\t                                What it do                                                           💡Example\n",
    "append(x)\t                    Adds x to the end of list\t                                                a.append(100)\n",
    "insert(i,x)\t                    Inserts x at index i\t                                                    a.insert(1, 30)\n",
    "extend(iter)\t                Adds all items from another iterable\t                                    a.extend([4, 5])\n",
    "pop(i)\t                        Removes and returns item at index i (default: last)\ta.pop() /               a.pop(2)\n",
    "remove(x)                   \tRemoves first occurrence of x\t                                            a.remove(50)\n",
    "clear()\t                        Empties the whole list (rip list)\t                                        a.clear()\n",
    "index(x)\t                    Returns index of first x\t                                                a.index(30)\n",
    "count(x)\t                    How many times x in list?\t                                                a.count(100)\n",
    "reverse()\t                    Flips the list in-place\t                                                    a.reverse()\n",
    "sort() \t                        Sorts in-place (ascending by default)\t                                    a.sort()\n",
    "copy()\t                        Returns a shallow copy\t                                                    b = a.copy()"
   ]
  },
  {
   "cell_type": "code",
   "execution_count": 59,
   "id": "61dcb5a4-3c61-4d23-90fe-30b1b72017a7",
   "metadata": {},
   "outputs": [
    {
     "name": "stdout",
     "output_type": "stream",
     "text": [
      "[1, 2, 3, 4, 5, 6, 7, 8, 9, 10]\n",
      "[1, 2, 3, 4, 5, 6, 7, 8, 9, 10, 5]\n",
      "[1, 2, 3, 4, 5, 7, 8, 9, 10, 5]\n",
      "[1, 7, 2, 3, 4, 5, 7, 8, 9, 10, 5]\n",
      "[1, 7, 2, 3, 4, 5, 7, 8, 9, 10, 5, 4, 5, 6, 7]\n",
      "[1, 7, 2, 3, 4, 7, 8, 9, 10, 5, 4, 5, 6, 7]\n",
      "[7, 6, 5, 4, 5, 10, 9, 8, 7, 4, 3, 2, 7, 1]\n",
      "[7, 6, 5, 4, 5, 10, 9, 8, 7, 4, 3, 2, 7, 1]\n",
      "[7, 6, 5, 4, 5, 10, 9, 8, 7, 4, 3, 2, 7, 1]\n",
      "2\n",
      "[]\n",
      "[]\n"
     ]
    }
   ],
   "source": [
    "a=[1,2,3,4,5,6,7,8,9,10]\n",
    "print(a)\n",
    "a.append(5)\n",
    "print(a)\n",
    "a.pop(5)\n",
    "print(a)\n",
    "a.insert(1,7)\n",
    "print(a)\n",
    "a.extend([4,5,6,7])\n",
    "print(a)\n",
    "a.remove(5)\n",
    "print(a)\n",
    "a.reverse()\n",
    "print(a)\n",
    "a.count(4)\n",
    "print(a)\n",
    "a.index(5)\n",
    "print(a)\n",
    "print(a.count(4))\n",
    "# print(a.reverse())\n",
    "a.clear()\n",
    "print(a)\n",
    "b=a.copy()\n",
    "print(b)"
   ]
  },
  {
   "cell_type": "code",
   "execution_count": 54,
   "id": "62ecc5a0-13c2-45bf-aed4-42f2fb332170",
   "metadata": {},
   "outputs": [
    {
     "name": "stdout",
     "output_type": "stream",
     "text": [
      "[1, 2, 3, 4, 5, 6, 7, 8, 9, 10, 5]\n",
      "[1, 2, 3, 4, 5, 6, 7, 8, 9, 10, 5, 4, 5]\n",
      "[1, 2, 3, 4, 6, 7, 8, 9, 10, 5, 4, 5]\n",
      "[5, 4, 5, 10, 9, 8, 7, 6, 4, 3, 2, 1]\n"
     ]
    }
   ],
   "source": [
    "a=[1,2,3,4,5,6,7,8,9,10]\n",
    "a.append(5)\n",
    "print(a)\n",
    "a.extend([4,5])\n",
    "print(a)\n",
    "a.remove(5)\n",
    "print(a)\n",
    "a.reverse()\n",
    "print(a)"
   ]
  },
  {
   "cell_type": "code",
   "execution_count": null,
   "id": "9e257c86-7300-499c-8c69-05d5d34b3d1b",
   "metadata": {},
   "outputs": [],
   "source": []
  },
  {
   "cell_type": "code",
   "execution_count": null,
   "id": "af380d54-49f3-4fda-882a-5fd8c86dfb3a",
   "metadata": {},
   "outputs": [],
   "source": [
    "# Tuple - not mutable,no changes occurss"
   ]
  },
  {
   "cell_type": "code",
   "execution_count": 3,
   "id": "0ee7ce6f-eb30-436e-a92c-51db53a365db",
   "metadata": {},
   "outputs": [
    {
     "data": {
      "text/plain": [
       "3"
      ]
     },
     "execution_count": 3,
     "metadata": {},
     "output_type": "execute_result"
    }
   ],
   "source": [
    "d=tuple('a string with many\"a\"s')\n",
    "d.count('a')"
   ]
  },
  {
   "cell_type": "code",
   "execution_count": 4,
   "id": "ada432c0-94c5-413d-9d8d-0c0ca073eafe",
   "metadata": {},
   "outputs": [
    {
     "data": {
      "text/plain": [
       "3"
      ]
     },
     "execution_count": 4,
     "metadata": {},
     "output_type": "execute_result"
    }
   ],
   "source": [
    "d.count('a')"
   ]
  },
  {
   "cell_type": "code",
   "execution_count": 5,
   "id": "d57cc4ca-8a6f-4501-9076-6c99500af69d",
   "metadata": {},
   "outputs": [
    {
     "name": "stdout",
     "output_type": "stream",
     "text": [
      "<class 'set'>\n"
     ]
    }
   ],
   "source": [
    "set1 = set()\n",
    "print(type(set1))"
   ]
  },
  {
   "cell_type": "code",
   "execution_count": null,
   "id": "4495bdfa-2e06-4f00-bda2-51b1b74d67fb",
   "metadata": {},
   "outputs": [],
   "source": [
    "# set0 = set([1,2,3,4,5])\n",
    "# set0 = {1,2,3,4,5}  #equivalent to "
   ]
  },
  {
   "cell_type": "code",
   "execution_count": 6,
   "id": "39c15846-35be-47b3-b722-9fd77f57e1ab",
   "metadata": {},
   "outputs": [],
   "source": [
    "set1= set([1,2,3])"
   ]
  },
  {
   "cell_type": "code",
   "execution_count": 33,
   "id": "6c8441e6-1d01-4c98-a937-3a18c61533e4",
   "metadata": {},
   "outputs": [],
   "source": [
    "set2= set([4,5,2])"
   ]
  },
  {
   "cell_type": "code",
   "execution_count": 23,
   "id": "2f5ae65d-c459-4b1a-92be-11bd4e63edb3",
   "metadata": {},
   "outputs": [
    {
     "data": {
      "text/plain": [
       "{1, 2, 3, 4, 5}"
      ]
     },
     "execution_count": 23,
     "metadata": {},
     "output_type": "execute_result"
    }
   ],
   "source": [
    "set1.union(set2)"
   ]
  },
  {
   "cell_type": "code",
   "execution_count": 24,
   "id": "0f19d3d5-f767-470f-8ca0-405e08083737",
   "metadata": {},
   "outputs": [
    {
     "data": {
      "text/plain": [
       "{0, 1, 2, 3}"
      ]
     },
     "execution_count": 24,
     "metadata": {},
     "output_type": "execute_result"
    }
   ],
   "source": [
    "set1.add(0)\n",
    "set1"
   ]
  },
  {
   "cell_type": "code",
   "execution_count": 34,
   "id": "de3e2b99-aa8a-4d67-a3f8-287d4a16be94",
   "metadata": {},
   "outputs": [
    {
     "data": {
      "text/plain": [
       "{2}"
      ]
     },
     "execution_count": 34,
     "metadata": {},
     "output_type": "execute_result"
    }
   ],
   "source": [
    "set1.intersection(set2)"
   ]
  },
  {
   "cell_type": "code",
   "execution_count": 35,
   "id": "d3d4bfb2-9ecd-4f57-890a-2945075efa6c",
   "metadata": {},
   "outputs": [
    {
     "data": {
      "text/plain": [
       "False"
      ]
     },
     "execution_count": 35,
     "metadata": {},
     "output_type": "execute_result"
    }
   ],
   "source": [
    "set1.issubset(set2)"
   ]
  },
  {
   "cell_type": "code",
   "execution_count": 37,
   "id": "78435066-45a7-4563-8e7f-25148f5aa258",
   "metadata": {},
   "outputs": [
    {
     "data": {
      "text/plain": [
       "False"
      ]
     },
     "execution_count": 37,
     "metadata": {},
     "output_type": "execute_result"
    }
   ],
   "source": [
    "set1.isdisjoint(set2)"
   ]
  },
  {
   "cell_type": "code",
   "execution_count": 39,
   "id": "528e1954-e3e4-4a66-a66f-5e6a4852c82d",
   "metadata": {},
   "outputs": [
    {
     "name": "stdout",
     "output_type": "stream",
     "text": [
      "{1, 2, 3}\n"
     ]
    }
   ],
   "source": [
    "set2.pop()\n",
    "print(set1)"
   ]
  },
  {
   "cell_type": "code",
   "execution_count": 43,
   "id": "2bd35b1c-80c7-4074-b970-cb8faf7ff43a",
   "metadata": {},
   "outputs": [
    {
     "data": {
      "text/plain": [
       "{2, 3}"
      ]
     },
     "execution_count": 43,
     "metadata": {},
     "output_type": "execute_result"
    }
   ],
   "source": [
    "set1.remove(1)\n",
    "(set1)"
   ]
  },
  {
   "cell_type": "code",
   "execution_count": null,
   "id": "2ebcf173-bf5c-4316-8b3a-9ccb8ce5befa",
   "metadata": {},
   "outputs": [],
   "source": [
    "# #File Operation\n",
    "openfile open()\n",
    "read :  read() readline() readlines()\n",
    "write : write() writelines()\n",
    "close: close()\n",
    "delete : os.remove()\n",
    "\n",
    "#File mode\n",
    "'r' read(default)"
   ]
  },
  {
   "cell_type": "code",
   "execution_count": 45,
   "id": "f3d3143d-1cff-4d02-b3a4-82a29b134100",
   "metadata": {},
   "outputs": [
    {
     "name": "stdout",
     "output_type": "stream",
     "text": [
      "File deleted\n"
     ]
    }
   ],
   "source": [
    "import os\n",
    "if os.path.exists(\"test.txt\"):\n",
    "    os.remove(\"test.txt\")\n",
    "    print(\"File deleted\")\n",
    "else:\n",
    "    print(\"File doesn't exist\")"
   ]
  },
  {
   "cell_type": "code",
   "execution_count": 9,
   "id": "9d11bcde-52e6-408e-9a9e-bff1ef935ccc",
   "metadata": {},
   "outputs": [
    {
     "name": "stdout",
     "output_type": "stream",
     "text": [
      "Enter a :  2\n",
      "Enter b :  2\n",
      "Enter c :  3\n",
      "Enter d :  4\n",
      "Enter e :  5\n"
     ]
    },
    {
     "name": "stdout",
     "output_type": "stream",
     "text": [
      "[2, 2, 3, 4, 5]\n"
     ]
    }
   ],
   "source": [
    "l=[]\n",
    "a=int(input(\"Enter a : \"))\n",
    "b=int(input(\"Enter b : \"))\n",
    "c=int(input(\"Enter c : \"))\n",
    "d=int(input(\"Enter d : \"))\n",
    "e=int(input(\"Enter e : \"))\n",
    "\n",
    "l.append(a)\n",
    "l.append(b)\n",
    "l.append(c)\n",
    "l.append(d)\n",
    "l.append(e)\n",
    "print(l)\n",
    "   "
   ]
  },
  {
   "cell_type": "code",
   "execution_count": 11,
   "id": "d1b3a5af-854c-4d9e-bb22-93db349ecb98",
   "metadata": {},
   "outputs": [
    {
     "name": "stdout",
     "output_type": "stream",
     "text": [
      "[1, 2, 3, 4, 5, 6]\n"
     ]
    }
   ],
   "source": [
    "list1 = [1, 2, 3]\n",
    "list2 = [4, 5, 6]\n",
    "list1.extend(list2)\n",
    "print(list1)"
   ]
  },
  {
   "cell_type": "code",
   "execution_count": 15,
   "id": "b4c493e4-2338-4415-9106-240e9d9c7c86",
   "metadata": {},
   "outputs": [
    {
     "name": "stdout",
     "output_type": "stream",
     "text": [
      "[10, 20, 25, 30, 40]\n"
     ]
    }
   ],
   "source": [
    " l = [10, 20, 30, 40]\n",
    "l.insert(2,25)\n",
    "print(l)"
   ]
  },
  {
   "cell_type": "code",
   "execution_count": 17,
   "id": "a81abd82-ca54-43b0-9932-7e30397e5f0e",
   "metadata": {},
   "outputs": [
    {
     "name": "stdout",
     "output_type": "stream",
     "text": [
      "[10, 30, 20, 40]\n"
     ]
    }
   ],
   "source": [
    "l = [10, 20, 30, 20, 40]\n",
    "l.remove(20)\n",
    "print(l)"
   ]
  },
  {
   "cell_type": "code",
   "execution_count": 20,
   "id": "ef5dd0d1-2d22-406f-92e2-f053ad88d033",
   "metadata": {},
   "outputs": [
    {
     "name": "stdout",
     "output_type": "stream",
     "text": [
      "[10, 20, 30, 20]\n",
      "20\n"
     ]
    }
   ],
   "source": [
    "l = [10, 20, 30, 20, 40]\n",
    "l.pop(-1)\n",
    "print(l)\n",
    "print(l.pop())"
   ]
  },
  {
   "cell_type": "code",
   "execution_count": 22,
   "id": "6dba269e-3950-47fd-ac87-da59fa8d811a",
   "metadata": {},
   "outputs": [
    {
     "data": {
      "text/plain": [
       "2"
      ]
     },
     "execution_count": 22,
     "metadata": {},
     "output_type": "execute_result"
    }
   ],
   "source": [
    "l = [5,10,15,20,25]\n",
    "l.index(15)"
   ]
  },
  {
   "cell_type": "code",
   "execution_count": 23,
   "id": "990ea3db-a7cd-46fa-9bb9-d510c7b41a6a",
   "metadata": {},
   "outputs": [
    {
     "data": {
      "text/plain": [
       "4"
      ]
     },
     "execution_count": 23,
     "metadata": {},
     "output_type": "execute_result"
    }
   ],
   "source": [
    "l=[1, 2, 2, 3, 2, 4, 2]\n",
    "l.count(2)"
   ]
  },
  {
   "cell_type": "code",
   "execution_count": 27,
   "id": "3f7aceac-2ff3-4565-9e62-1b4bc3ee6850",
   "metadata": {},
   "outputs": [
    {
     "name": "stdout",
     "output_type": "stream",
     "text": [
      "[3, 5, 7, 10]\n",
      "[10, 7, 5, 3]\n"
     ]
    }
   ],
   "source": [
    "l=[10, 5, 7, 3]\n",
    "l.sort()\n",
    "print(l)\n",
    "l.reverse()\n",
    "print(l)"
   ]
  },
  {
   "cell_type": "code",
   "execution_count": 28,
   "id": "4a36e9b4-0a1a-4e77-86f5-a4c236dd183b",
   "metadata": {},
   "outputs": [
    {
     "name": "stdout",
     "output_type": "stream",
     "text": [
      "[5, 4, 3, 2, 1]\n"
     ]
    }
   ],
   "source": [
    "l=[1, 2, 3, 4, 5]\n",
    "l.reverse()\n",
    "print(l)"
   ]
  },
  {
   "cell_type": "code",
   "execution_count": 54,
   "id": "14d0e58b-4040-4a49-92ee-e4c4543eb113",
   "metadata": {},
   "outputs": [
    {
     "ename": "IndentationError",
     "evalue": "expected an indented block after 'if' statement on line 4 (457262509.py, line 5)",
     "output_type": "error",
     "traceback": [
      "\u001b[1;36m  Cell \u001b[1;32mIn[54], line 5\u001b[1;36m\u001b[0m\n\u001b[1;33m    print(\"male dominating family\")\u001b[0m\n\u001b[1;37m    ^\u001b[0m\n\u001b[1;31mIndentationError\u001b[0m\u001b[1;31m:\u001b[0m expected an indented block after 'if' statement on line 4\n"
     ]
    }
   ],
   "source": [
    "l=[]\n",
    "def family():\n",
    "    for i in l:\n",
    "        if 'm'>'f':\n",
    "            print(\"male dominating family\")\n",
    "            if 'f'>'m':\n",
    "            print(\"Female dominating family\")\n",
    "            if 'm'=='f':\n",
    "            print(\"Equal dominating family\")\n",
    "\n",
    "def input():\n",
    "    a=input(\"Enter m & f: \")\n",
    "    l.append(a)\n",
    "input()\n",
    "family()"
   ]
  },
  {
   "cell_type": "code",
   "execution_count": 7,
   "id": "95ae37ad-9d39-47a2-a63b-616dbb05eab5",
   "metadata": {},
   "outputs": [
    {
     "name": "stdout",
     "output_type": "stream",
     "text": [
      "Name : Suraj\n",
      "Age :21\n"
     ]
    }
   ],
   "source": [
    "class Student:\n",
    "    def __init__(self,name,age):\n",
    "        self.name=name\n",
    "        self.age=age\n",
    "\n",
    "    def show_details(self):\n",
    "        print(f\"Name : {self.name}\\nAge :{self.age}\")\n",
    "s1=Student(\"Suraj\",\"21\")\n",
    "s1.show_details()"
   ]
  },
  {
   "cell_type": "code",
   "execution_count": null,
   "id": "f815ccf0-4ce3-46fe-ba4c-b894b2bab16c",
   "metadata": {},
   "outputs": [],
   "source": [
    "class Atm:\n",
    "    "
   ]
  },
  {
   "cell_type": "code",
   "execution_count": null,
   "id": "87b9811b-4102-45a9-a028-514433b3712c",
   "metadata": {},
   "outputs": [],
   "source": []
  },
  {
   "cell_type": "code",
   "execution_count": null,
   "id": "7e76c1d6-ffdb-4705-961a-3118ac6e7aca",
   "metadata": {},
   "outputs": [],
   "source": []
  },
  {
   "cell_type": "code",
   "execution_count": null,
   "id": "78f06b68-62be-4bf5-974a-9b0ac5c425fe",
   "metadata": {},
   "outputs": [],
   "source": []
  },
  {
   "cell_type": "code",
   "execution_count": null,
   "id": "5a8a3d0d-0b42-4d2b-b0c2-7742cd33f6f5",
   "metadata": {},
   "outputs": [],
   "source": []
  }
 ],
 "metadata": {
  "kernelspec": {
   "display_name": "base",
   "language": "python",
   "name": "python3"
  },
  "language_info": {
   "codemirror_mode": {
    "name": "ipython",
    "version": 3
   },
   "file_extension": ".py",
   "mimetype": "text/x-python",
   "name": "python",
   "nbconvert_exporter": "python",
   "pygments_lexer": "ipython3",
   "version": "3.13.5"
  }
 },
 "nbformat": 4,
 "nbformat_minor": 5
}
